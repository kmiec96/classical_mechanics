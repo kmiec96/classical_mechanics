{
 "cells": [
  {
   "cell_type": "markdown",
   "metadata": {},
   "source": [
    "# Soulutions to Classical Mechanics Problems - HOMEWORK 1\n",
    "\n",
    "*by Mateusz Kmieć*"
   ]
  },
  {
   "cell_type": "markdown",
   "metadata": {},
   "source": [
    "### Problem 1.39"
   ]
  },
  {
   "cell_type": "markdown",
   "metadata": {},
   "source": [
    "A ball is thrown with initial speed $v_{0}$ up an inclined plane. The plane is inclined at an angle $\\phi$\n",
    "above the horizontal, and the ball's initial velocity is at an angle $\\theta$ above the plane. Choose axes\n",
    "with $x$ measured up the slope, $y$ normal to the slope, and $z$ across it. Write down Newton's second law\n",
    "using these axes and find the ball's position as a function of time. Show that the ball lands at a distance\n",
    "$R = 2v_{0}^{2} \\frac{\\sin(\\theta) \\cos(\\theta+\\phi)}{(g \\cos^{2}(\\phi))}$ from its launch point. Show that for given $v_{0}$ and $\\theta$, the maximum possible range up the inclined plane is $R_{max} = \\frac{v_{0}^{2}}{[g(1 + \\sin{\\phi})]}.$"
   ]
  },
  {
   "cell_type": "markdown",
   "metadata": {},
   "source": [
    "#### initial conditions inferred from the problem statement:"
   ]
  },
  {
   "cell_type": "markdown",
   "metadata": {},
   "source": [
    "$$x(0)=0,$$\n",
    "$$y(0)=0,$$\n",
    "$$z(0)=0,$$"
   ]
  },
  {
   "cell_type": "markdown",
   "metadata": {},
   "source": [
    "$$\\dot{x}(0)=v_{0}\\cos{\\theta},$$\n",
    "$$\\dot{y}(0)=v_{0}\\sin{\\theta},$$\n",
    "$$\\dot{z}(0)=0.$$"
   ]
  },
  {
   "cell_type": "markdown",
   "metadata": {},
   "source": [
    "Let us notice that this is a 2D problem since $\\ddot{z}=\\text{const}$.\n",
    "It is convinient to chose the beginning of the coordinate system such that $\\ddot{z}=\\text{const}=0$.\n",
    "Then we will have:\n",
    "\n",
    "$$\\ddot{z}(t)=\\dot{z}(t)=z(t)=0.$$\n"
   ]
  },
  {
   "cell_type": "markdown",
   "metadata": {},
   "source": [
    "From the second Newton's law we can write equations (1,2) in the $x-y$ plane:"
   ]
  },
  {
   "cell_type": "markdown",
   "metadata": {},
   "source": [
    "(1) $$m\\ddot{x}=-mg\\sin{\\phi},$$\n",
    "\n",
    "(2) $$m\\ddot{y}=-mg\\cos{\\phi}.$$"
   ]
  },
  {
   "cell_type": "markdown",
   "metadata": {},
   "source": [
    "We can integrate both sides of equations (1,2) in order to obtain:"
   ]
  },
  {
   "cell_type": "markdown",
   "metadata": {},
   "source": [
    "(3)$$\\dot{x}(t)-\\dot{x}(0)=-gt\\sin{\\phi},$$\n",
    "(4)$$\\dot{y}(t)-\\dot{y}(0)=-gt\\cos{\\phi}.$$"
   ]
  },
  {
   "cell_type": "markdown",
   "metadata": {},
   "source": [
    "If we substitute the initial conditions into (3,4) we will get:"
   ]
  },
  {
   "cell_type": "markdown",
   "metadata": {},
   "source": [
    "(5) $$\\dot{x}(t)=-gt\\sin{\\phi}+v_{0}t\\cos{\\theta},$$\n",
    "(6) $$\\dot{y}(t)=-gt\\cos{\\phi}+v_{0}t\\sin{\\theta}.$$"
   ]
  },
  {
   "cell_type": "markdown",
   "metadata": {},
   "source": [
    "After integration of (5,6) on both sides we will end up with:"
   ]
  },
  {
   "cell_type": "markdown",
   "metadata": {},
   "source": [
    "(7) $$x(t)=-\\frac{gt^{2}}{2}\\sin{\\phi}+v_{0}t\\cos{\\theta},$$\n",
    "(8) $$y(t)=-\\frac{gt^{2}}{2}\\cos{\\phi}+v_{0}t\\sin{\\theta}.$$"
   ]
  },
  {
   "cell_type": "markdown",
   "metadata": {},
   "source": [
    "Now we are looking for maxiumum of $y(t)$."
   ]
  },
  {
   "cell_type": "markdown",
   "metadata": {},
   "source": [
    "(9) $$y'(t)=0.$$"
   ]
  },
  {
   "cell_type": "markdown",
   "metadata": {},
   "source": [
    "Now we are looking for the solution of equation (9):"
   ]
  },
  {
   "cell_type": "markdown",
   "metadata": {},
   "source": [
    "(10) $$t^{*}=\\frac{v_{0}\\sin{\\theta}}{g\\cos{\\phi}}.$$"
   ]
  },
  {
   "cell_type": "markdown",
   "metadata": {},
   "source": [
    "From symmetry we can easily infer that the ball will reach maximal possible range at $t_{max}$, where:"
   ]
  },
  {
   "cell_type": "markdown",
   "metadata": {},
   "source": [
    "(11) $$t_{max}=\\frac{2v_{0}\\sin{\\theta}}{g\\cos{\\phi}}.$$"
   ]
  },
  {
   "cell_type": "markdown",
   "metadata": {},
   "source": [
    "In order to obtain $R$ we need to substitute $t_{max}$ into (7):"
   ]
  },
  {
   "cell_type": "markdown",
   "metadata": {},
   "source": [
    "(12) $$R(\\theta,\\phi,v_{0})=x(t_{max},\\theta,\\phi,v_{0})=-\\frac{gt_{max}^{2}}{2}\\sin{\\phi}+v_{0}t_{max}\\cos{\\theta}.$$"
   ]
  },
  {
   "cell_type": "markdown",
   "metadata": {},
   "source": [
    "The interpretation of the $R$ dependence on $\\theta$ will become clear later on!"
   ]
  },
  {
   "cell_type": "markdown",
   "metadata": {},
   "source": [
    "Which can be rewritten as:"
   ]
  },
  {
   "cell_type": "markdown",
   "metadata": {},
   "source": [
    "(13) $$R(\\theta,\\phi,v_{0})=x(t_{max},\\theta,\\phi,v_{0})=\\frac{2v_{0}^{2}}{g\\cos^{2}{\\theta}}\\left[\\sin{\\theta}\\left(\\cos{\\theta}\\cos{\\phi}-\\sin{\\theta}\\sin{\\phi}\\right)\\right]=\\frac{2v_{0}^{2}\\sin{\\theta}\\cos{(\\theta+\\phi)}}{g\\cos^{2}{\\phi}}.$$ \n",
    "\n",
    "\n",
    "QED."
   ]
  },
  {
   "cell_type": "markdown",
   "metadata": {},
   "source": [
    "Now we can easily see that the maximal value of $R$ for a given $v_{0}$ and $\\phi$ is:\n",
    "    \n",
    "(14) $$R_{max}=R(\\theta_{max})= x(t_{max},\\theta_{max}) = \\frac{v_{0}^{2}}{[g(1 + \\sin{\\phi})]}.$$"
   ]
  },
  {
   "cell_type": "markdown",
   "metadata": {},
   "source": [
    "Let us notice that (13) is maximal for $\\theta$ such that:\n",
    "    \n",
    "(15) $$\\frac{dx(t_{max},\\theta)}{d\\theta}=\\frac{2 v_{0}^{2}\\cos{(\\phi+2\\theta)}}{g \\cos^{2}{\\phi}}=0.$$"
   ]
  },
  {
   "cell_type": "markdown",
   "metadata": {},
   "source": [
    "As a result of solving (15) we obtain:"
   ]
  },
  {
   "cell_type": "markdown",
   "metadata": {},
   "source": [
    "(16) $$\\theta_{max}=\\frac{\\pi}{4}-\\frac{\\phi}{2}.$$"
   ]
  },
  {
   "cell_type": "markdown",
   "metadata": {},
   "source": [
    "After substituting the above into (13) we will get (14).\n",
    "\n",
    "QED"
   ]
  },
  {
   "cell_type": "markdown",
   "metadata": {},
   "source": [
    "### Problem 1.40"
   ]
  },
  {
   "cell_type": "markdown",
   "metadata": {},
   "source": [
    "A cannon shoots a ball at an angle 6 above the horizontal ground.\n",
    "\n",
    "(a) Neglecting air resistance,\n",
    "use Newton's second law to find the ball's position as a function of time. (Use axes with $x$ measured\n",
    "horizontally and $y$ vertically.)"
   ]
  },
  {
   "cell_type": "markdown",
   "metadata": {},
   "source": [
    "(b) Let $r(t)$ denote the ball's distance from the cannon. What is the\n",
    "largest possible value of $\\theta$ if $r(t)$ is to increase throughout the ball's flight? \n",
    "\n",
    "\n",
    "[Hint: Using your solution to part (a) you can write down $r^{2}$ as $x^{2}$ + $y^{2}$, and then find the condition that $r^{2}$ is always increasing.]"
   ]
  },
  {
   "cell_type": "markdown",
   "metadata": {},
   "source": [
    "#### IMPORTANT REMARK!"
   ]
  },
  {
   "cell_type": "markdown",
   "metadata": {},
   "source": [
    "We know that $t\\geq 0$. Consequently, all divagations concerning $r(t)$ are performed under the assumption the function argument is always greater than 0."
   ]
  },
  {
   "cell_type": "markdown",
   "metadata": {},
   "source": [
    "##### So the general idea for this task is that we need to find $\\theta$ for which $r^{2}(t)$ is the non-decreasing function of $t$."
   ]
  },
  {
   "cell_type": "markdown",
   "metadata": {},
   "source": [
    "First we need to find $x(t)$ and $y(t)$ which are:"
   ]
  },
  {
   "cell_type": "markdown",
   "metadata": {},
   "source": [
    "(17) $$x(t)=v_{0}t\\cos{\\theta}$$"
   ]
  },
  {
   "cell_type": "markdown",
   "metadata": {},
   "source": [
    "(18) $$y(t)=v_{0}t\\sin{\\theta}-\\frac{gt^{2}}{2}.$$"
   ]
  },
  {
   "cell_type": "markdown",
   "metadata": {},
   "source": [
    "Now, we can find $r^{2}(t)$ as $x^{2}(t)+y^{2}(t)$:"
   ]
  },
  {
   "cell_type": "markdown",
   "metadata": {},
   "source": [
    "(19) $$r^{2}(t)=v_{0}^{2}t^{2}\\cos^{2}{\\theta}+v_{0}^{2}t^{2}\\sin^{2}{\\theta}-gt^{3}v_{0}\\sin{\\theta}+\\frac{g^{2}t^{4}}{4}$$"
   ]
  },
  {
   "cell_type": "markdown",
   "metadata": {},
   "source": [
    "If we calculate the first derivative of the above expression we will be able to find points at which the monotonicity of this function changes:"
   ]
  },
  {
   "cell_type": "markdown",
   "metadata": {},
   "source": [
    "(20) $$\\frac{d(r^{2}(t))}{dt}=0.$$"
   ]
  },
  {
   "cell_type": "markdown",
   "metadata": {},
   "source": [
    "Which can be equivalently written as:"
   ]
  },
  {
   "cell_type": "markdown",
   "metadata": {},
   "source": [
    "(21) $$2v_{0}^{2}t-3gt^{2}v_{0}\\sin{\\theta}+g^{2}t^{3}=t(2v_{0}^{2}-3gt v_{0}\\sin{\\theta}+g^{2}t^{2})=0.$$"
   ]
  },
  {
   "cell_type": "markdown",
   "metadata": {},
   "source": [
    "One of the roots of the above equation is trivial $t=0$. Which corresponds to the moment when the ball leaves the cannon."
   ]
  },
  {
   "cell_type": "markdown",
   "metadata": {},
   "source": [
    "As far as the solutions of the quadratic function in the parenthesis in (21) are concerned, there are three options:"
   ]
  },
  {
   "cell_type": "markdown",
   "metadata": {},
   "source": [
    "1.  real solution $\\Delta=0$,"
   ]
  },
  {
   "cell_type": "markdown",
   "metadata": {},
   "source": [
    "2. two complex solutions $\\Delta<0$,"
   ]
  },
  {
   "cell_type": "markdown",
   "metadata": {},
   "source": [
    "3. two real solitions $\\Delta>0$."
   ]
  },
  {
   "cell_type": "markdown",
   "metadata": {},
   "source": [
    "We know that $r^{2}(t)$ will be non-decreasing function of time if and only if $\\Delta \\leq 0$.\n",
    "This means that $\\theta$ for which $\\Delta=0$ will correspond to largest $\\theta$ for which $r^{2}(t)$ is a non-decreasing function."
   ]
  },
  {
   "cell_type": "markdown",
   "metadata": {},
   "source": [
    "From (21) we can easily see that:"
   ]
  },
  {
   "cell_type": "markdown",
   "metadata": {},
   "source": [
    "(22) $$\\Delta=\\sqrt{9g^{2}v_{0}^{2}\\sin^{2}{\\theta}-8v_{0}^{2}g^{2}}=0.$$"
   ]
  },
  {
   "cell_type": "markdown",
   "metadata": {},
   "source": [
    "The above is true for:"
   ]
  },
  {
   "cell_type": "markdown",
   "metadata": {},
   "source": [
    "(23) $$\\sin^{2}{\\theta}=\\frac{8}{9},$$"
   ]
  },
  {
   "cell_type": "markdown",
   "metadata": {},
   "source": [
    "which is equivallent to:"
   ]
  },
  {
   "cell_type": "markdown",
   "metadata": {},
   "source": [
    "(24) $$\\theta=\\sin^{-1}{\\left(\\frac{2\\sqrt{2}}{3}\\right)}.$$"
   ]
  },
  {
   "cell_type": "markdown",
   "metadata": {},
   "source": [
    "###### Consequently, we can see that $r^{2}(t)$ is a non-decreasing function for $\\theta \\leq \\sin^{-1}{\\left(\\frac{2\\sqrt{2}}{3}\\right)}$;"
   ]
  },
  {
   "cell_type": "markdown",
   "metadata": {},
   "source": [
    "###### $r^{2}(t)$ is strictly a increasing function for $\\theta<\\sin^{-1}{\\left(\\frac{2\\sqrt{2}}{3}\\right)}$."
   ]
  },
  {
   "cell_type": "markdown",
   "metadata": {},
   "source": [
    "Let us notice that the same goes for $r(t)=\\sqrt{r^{2}(t)}$ as it has the same monotonicity as $r^{2}(t)$."
   ]
  }
 ],
 "metadata": {
  "kernelspec": {
   "display_name": "Python 3",
   "language": "python",
   "name": "python3"
  },
  "language_info": {
   "codemirror_mode": {
    "name": "ipython",
    "version": 3
   },
   "file_extension": ".py",
   "mimetype": "text/x-python",
   "name": "python",
   "nbconvert_exporter": "python",
   "pygments_lexer": "ipython3",
   "version": "3.8.5"
  }
 },
 "nbformat": 4,
 "nbformat_minor": 4
}
