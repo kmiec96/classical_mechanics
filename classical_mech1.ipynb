{
 "cells": [
  {
   "cell_type": "markdown",
   "metadata": {},
   "source": [
    "# Soulutions to Classical Mechanics Problems - HOMEWORK 1, 2, 3, 4, 5\n",
    "\n",
    "*by Mateusz Kmieć*"
   ]
  },
  {
   "cell_type": "code",
   "execution_count": 8,
   "metadata": {},
   "outputs": [],
   "source": [
    "import numpy as np\n",
    "import matplotlib.pyplot as plt\n",
    "import math as mt\n",
    "import urllib.request\n",
    "import pandas as pd\n",
    "from sklearn.linear_model import LinearRegression\n",
    "from sklearn.metrics import mean_squared_error\n",
    "from scipy.stats import norm, expon, chi2, uniform\n",
    "from scipy.integrate import quad\n",
    "import matplotlib.pyplot as plt\n",
    "%matplotlib inline"
   ]
  },
  {
   "cell_type": "markdown",
   "metadata": {},
   "source": [
    "### Problem 1.39"
   ]
  },
  {
   "cell_type": "markdown",
   "metadata": {},
   "source": [
    "A ball is thrown with initial speed $v_{0}$ up an inclined plane. The plane is inclined at an angle $\\phi$\n",
    "above the horizontal, and the ball's initial velocity is at an angle $\\theta$ above the plane. Choose axes\n",
    "with $x$ measured up the slope, $y$ normal to the slope, and $z$ across it. Write down Newton's second law\n",
    "using these axes and find the ball's position as a function of time. Show that the ball lands at a distance\n",
    "$R = 2v_{0}^{2} \\frac{\\sin(\\theta) \\cos(\\theta+\\phi)}{(g \\cos^{2}(\\phi))}$ from its launch point. Show that for given $v_{0}$ and $\\theta$, the maximum possible range up the inclined plane is $R_{max} = \\frac{v_{0}^{2}}{[g(1 + \\sin{\\phi})]}.$"
   ]
  },
  {
   "cell_type": "markdown",
   "metadata": {},
   "source": [
    "#### initial conditions inferred from the problem statement:"
   ]
  },
  {
   "cell_type": "markdown",
   "metadata": {},
   "source": [
    "$$x(0)=0,$$\n",
    "$$y(0)=0,$$\n",
    "$$z(0)=0,$$"
   ]
  },
  {
   "cell_type": "markdown",
   "metadata": {},
   "source": [
    "$$\\dot{x}(0)=v_{0}\\cos{\\theta},$$\n",
    "$$\\dot{y}(0)=v_{0}\\sin{\\theta},$$\n",
    "$$\\dot{z}(0)=0.$$"
   ]
  },
  {
   "cell_type": "markdown",
   "metadata": {},
   "source": [
    "Let us notice that this is a 2D problem since $\\ddot{z}=\\text{const}$.\n",
    "It is convinient to chose the beginning of the coordinate system such that $\\ddot{z}=\\text{const}=0$.\n",
    "Then we will have:\n",
    "\n",
    "$$\\ddot{z}(t)=\\dot{z}(t)=z(t)=0.$$\n"
   ]
  },
  {
   "cell_type": "markdown",
   "metadata": {},
   "source": [
    "From the second Newton's law we can write equations (1,2) in the $x-y$ plane:"
   ]
  },
  {
   "cell_type": "markdown",
   "metadata": {},
   "source": [
    "(1) $$m\\ddot{x}=-mg\\sin{\\phi},$$\n",
    "\n",
    "(2) $$m\\ddot{y}=-mg\\cos{\\phi}.$$"
   ]
  },
  {
   "cell_type": "markdown",
   "metadata": {},
   "source": [
    "We can integrate both sides of equations (1,2) in order to obtain:"
   ]
  },
  {
   "cell_type": "markdown",
   "metadata": {},
   "source": [
    "(3)$$\\dot{x}(t)-\\dot{x}(0)=-gt\\sin{\\phi},$$\n",
    "(4)$$\\dot{y}(t)-\\dot{y}(0)=-gt\\cos{\\phi}.$$"
   ]
  },
  {
   "cell_type": "markdown",
   "metadata": {},
   "source": [
    "If we substitute the initial conditions into (3,4) we will get:"
   ]
  },
  {
   "cell_type": "markdown",
   "metadata": {},
   "source": [
    "(5) $$\\dot{x}(t)=-gt\\sin{\\phi}+v_{0}t\\cos{\\theta},$$\n",
    "(6) $$\\dot{y}(t)=-gt\\cos{\\phi}+v_{0}t\\sin{\\theta}.$$"
   ]
  },
  {
   "cell_type": "markdown",
   "metadata": {},
   "source": [
    "After integration of (5,6) on both sides we will end up with:"
   ]
  },
  {
   "cell_type": "markdown",
   "metadata": {},
   "source": [
    "(7) $$x(t)=-\\frac{gt^{2}}{2}\\sin{\\phi}+v_{0}t\\cos{\\theta},$$\n",
    "(8) $$y(t)=-\\frac{gt^{2}}{2}\\cos{\\phi}+v_{0}t\\sin{\\theta}.$$"
   ]
  },
  {
   "cell_type": "markdown",
   "metadata": {},
   "source": [
    "Now we are looking for maxiumum of $y(t)$."
   ]
  },
  {
   "cell_type": "markdown",
   "metadata": {},
   "source": [
    "(9) $$y'(t)=0.$$"
   ]
  },
  {
   "cell_type": "markdown",
   "metadata": {},
   "source": [
    "Now we are looking for the solution of equation (9):"
   ]
  },
  {
   "cell_type": "markdown",
   "metadata": {},
   "source": [
    "(10) $$t^{*}=\\frac{v_{0}\\sin{\\theta}}{g\\cos{\\phi}}.$$"
   ]
  },
  {
   "cell_type": "markdown",
   "metadata": {},
   "source": [
    "From symmetry we can easily infer that the ball will reach maximal possible range at $t_{max}$, where:"
   ]
  },
  {
   "cell_type": "markdown",
   "metadata": {},
   "source": [
    "(11) $$t_{max}=\\frac{2v_{0}\\sin{\\theta}}{g\\cos{\\phi}}.$$"
   ]
  },
  {
   "cell_type": "markdown",
   "metadata": {},
   "source": [
    "In order to obtain $R$ we need to substitute $t_{max}$ into (7):"
   ]
  },
  {
   "cell_type": "markdown",
   "metadata": {},
   "source": [
    "(12) $$R(\\theta,\\phi,v_{0})=x(t_{max},\\theta,\\phi,v_{0})=-\\frac{gt_{max}^{2}}{2}\\sin{\\phi}+v_{0}t_{max}\\cos{\\theta}.$$"
   ]
  },
  {
   "cell_type": "markdown",
   "metadata": {},
   "source": [
    "The interpretation of the $R$ dependence on $\\theta$ will become clear later on!"
   ]
  },
  {
   "cell_type": "markdown",
   "metadata": {},
   "source": [
    "Which can be rewritten as:"
   ]
  },
  {
   "cell_type": "markdown",
   "metadata": {},
   "source": [
    "(13) $$R(\\theta,\\phi,v_{0})=x(t_{max},\\theta,\\phi,v_{0})=\\frac{2v_{0}^{2}}{g\\cos^{2}{\\theta}}\\left[\\sin{\\theta}\\left(\\cos{\\theta}\\cos{\\phi}-\\sin{\\theta}\\sin{\\phi}\\right)\\right]=\\frac{2v_{0}^{2}\\sin{\\theta}\\cos{(\\theta+\\phi)}}{g\\cos^{2}{\\phi}}.$$ \n",
    "\n",
    "\n",
    "QED."
   ]
  },
  {
   "cell_type": "markdown",
   "metadata": {},
   "source": [
    "Now we can easily see that the maximal value of $R$ for a given $v_{0}$ and $\\phi$ is:\n",
    "    \n",
    "(14) $$R_{max}=R(\\theta_{max})= x(t_{max},\\theta_{max}) = \\frac{v_{0}^{2}}{[g(1 + \\sin{\\phi})]}.$$"
   ]
  },
  {
   "cell_type": "markdown",
   "metadata": {},
   "source": [
    "Let us notice that (13) is maximal for $\\theta$ such that:\n",
    "    \n",
    "(15) $$\\frac{dx(t_{max},\\theta)}{d\\theta}=\\frac{2 v_{0}^{2}\\cos{(\\phi+2\\theta)}}{g \\cos^{2}{\\phi}}=0.$$"
   ]
  },
  {
   "cell_type": "markdown",
   "metadata": {},
   "source": [
    "As a result of solving (15) we obtain:"
   ]
  },
  {
   "cell_type": "markdown",
   "metadata": {},
   "source": [
    "(16) $$\\theta_{max}=\\frac{\\pi}{4}-\\frac{\\phi}{2}.$$"
   ]
  },
  {
   "cell_type": "markdown",
   "metadata": {},
   "source": [
    "After substituting the above into (13) we will get (14).\n",
    "\n",
    "QED"
   ]
  },
  {
   "cell_type": "markdown",
   "metadata": {},
   "source": [
    "### Problem 1.40"
   ]
  },
  {
   "cell_type": "markdown",
   "metadata": {},
   "source": [
    "A cannon shoots a ball at an angle 6 above the horizontal ground.\n",
    "\n",
    "(a) Neglecting air resistance,\n",
    "use Newton's second law to find the ball's position as a function of time. (Use axes with $x$ measured\n",
    "horizontally and $y$ vertically.)"
   ]
  },
  {
   "cell_type": "markdown",
   "metadata": {},
   "source": [
    "(b) Let $r(t)$ denote the ball's distance from the cannon. What is the\n",
    "largest possible value of $\\theta$ if $r(t)$ is to increase throughout the ball's flight? \n",
    "\n",
    "\n",
    "[Hint: Using your solution to part (a) you can write down $r^{2}$ as $x^{2}$ + $y^{2}$, and then find the condition that $r^{2}$ is always increasing.]"
   ]
  },
  {
   "cell_type": "markdown",
   "metadata": {},
   "source": [
    "#### IMPORTANT REMARK!"
   ]
  },
  {
   "cell_type": "markdown",
   "metadata": {},
   "source": [
    "We know that $t\\geq 0$. Consequently, all divagations concerning $r(t)$ are performed under the assumption the function argument is always greater than 0."
   ]
  },
  {
   "cell_type": "markdown",
   "metadata": {},
   "source": [
    "##### So the general idea for this task is that we need to find $\\theta$ for which $r^{2}(t)$ is the non-decreasing function of $t$."
   ]
  },
  {
   "cell_type": "markdown",
   "metadata": {},
   "source": [
    "First we need to find $x(t)$ and $y(t)$ which are:"
   ]
  },
  {
   "cell_type": "markdown",
   "metadata": {},
   "source": [
    "(17) $$x(t)=v_{0}t\\cos{\\theta}$$"
   ]
  },
  {
   "cell_type": "markdown",
   "metadata": {},
   "source": [
    "(18) $$y(t)=v_{0}t\\sin{\\theta}-\\frac{gt^{2}}{2}.$$"
   ]
  },
  {
   "cell_type": "markdown",
   "metadata": {},
   "source": [
    "Now, we can find $r^{2}(t)$ as $x^{2}(t)+y^{2}(t)$:"
   ]
  },
  {
   "cell_type": "markdown",
   "metadata": {},
   "source": [
    "(19) $$r^{2}(t)=v_{0}^{2}t^{2}\\cos^{2}{\\theta}+v_{0}^{2}t^{2}\\sin^{2}{\\theta}-gt^{3}v_{0}\\sin{\\theta}+\\frac{g^{2}t^{4}}{4}$$"
   ]
  },
  {
   "cell_type": "markdown",
   "metadata": {},
   "source": [
    "If we calculate the first derivative of the above expression we will be able to find points at which the monotonicity of this function changes:"
   ]
  },
  {
   "cell_type": "markdown",
   "metadata": {},
   "source": [
    "(20) $$\\frac{d(r^{2}(t))}{dt}=0.$$"
   ]
  },
  {
   "cell_type": "markdown",
   "metadata": {},
   "source": [
    "Which can be equivalently written as:"
   ]
  },
  {
   "cell_type": "markdown",
   "metadata": {},
   "source": [
    "(21) $$2v_{0}^{2}t-3gt^{2}v_{0}\\sin{\\theta}+g^{2}t^{3}=t(2v_{0}^{2}-3gt v_{0}\\sin{\\theta}+g^{2}t^{2})=0.$$"
   ]
  },
  {
   "cell_type": "markdown",
   "metadata": {},
   "source": [
    "One of the roots of the above equation is trivial $t=0$. Which corresponds to the moment when the ball leaves the cannon."
   ]
  },
  {
   "cell_type": "markdown",
   "metadata": {},
   "source": [
    "As far as the solutions of the quadratic function in the parenthesis in (21) are concerned, there are three options:"
   ]
  },
  {
   "cell_type": "markdown",
   "metadata": {},
   "source": [
    "1.  real solution $\\Delta=0$,"
   ]
  },
  {
   "cell_type": "markdown",
   "metadata": {},
   "source": [
    "2. two complex solutions $\\Delta<0$,"
   ]
  },
  {
   "cell_type": "markdown",
   "metadata": {},
   "source": [
    "3. two real solitions $\\Delta>0$."
   ]
  },
  {
   "cell_type": "markdown",
   "metadata": {},
   "source": [
    "We know that $r^{2}(t)$ will be non-decreasing function of time if and only if $\\Delta \\leq 0$.\n",
    "This means that $\\theta$ for which $\\Delta=0$ will correspond to largest $\\theta$ for which $r^{2}(t)$ is a non-decreasing function."
   ]
  },
  {
   "cell_type": "markdown",
   "metadata": {},
   "source": [
    "From (21) we can easily see that:"
   ]
  },
  {
   "cell_type": "markdown",
   "metadata": {},
   "source": [
    "(22) $$\\Delta=\\sqrt{9g^{2}v_{0}^{2}\\sin^{2}{\\theta}-8v_{0}^{2}g^{2}}=0.$$"
   ]
  },
  {
   "cell_type": "markdown",
   "metadata": {},
   "source": [
    "The above is true for:"
   ]
  },
  {
   "cell_type": "markdown",
   "metadata": {},
   "source": [
    "(23) $$\\sin^{2}{\\theta}=\\frac{8}{9},$$"
   ]
  },
  {
   "cell_type": "markdown",
   "metadata": {},
   "source": [
    "which is equivallent to:"
   ]
  },
  {
   "cell_type": "markdown",
   "metadata": {},
   "source": [
    "(24) $$\\theta=\\sin^{-1}{\\left(\\frac{2\\sqrt{2}}{3}\\right)}.$$"
   ]
  },
  {
   "cell_type": "markdown",
   "metadata": {},
   "source": [
    "###### Consequently, we can see that $r^{2}(t)$ is a non-decreasing function for $\\theta \\leq \\sin^{-1}{\\left(\\frac{2\\sqrt{2}}{3}\\right)}$;"
   ]
  },
  {
   "cell_type": "markdown",
   "metadata": {},
   "source": [
    "###### $r^{2}(t)$ is strictly a increasing function for $\\theta<\\sin^{-1}{\\left(\\frac{2\\sqrt{2}}{3}\\right)}$."
   ]
  },
  {
   "cell_type": "markdown",
   "metadata": {},
   "source": [
    "Let us notice that the same goes for $r(t)=\\sqrt{r^{2}(t)}$ as it has the same monotonicity as $r^{2}(t)$."
   ]
  },
  {
   "cell_type": "markdown",
   "metadata": {},
   "source": [
    "### Problem 2.14"
   ]
  },
  {
   "cell_type": "markdown",
   "metadata": {},
   "source": [
    "A mass $m$ is constrained to move along the $x$ axis subject to a force $F(v)=-F_{0}e^{\\frac{v}{V}}$,\n",
    "where $F_{0}$ and $V$ are constants.\n",
    "\n",
    "(a) Find $v(t)$ if the initial velocity is $v_{0}>0$ at time $t = 0$.\n",
    "\n",
    "(b) At what time does it come instantaneously to rest?\n",
    "\n",
    "(c) By integrating $v(t)$, you can find $x(t)$.\n",
    "\n",
    "Do this and find how far the mass travels before coming instantaneously to rest."
   ]
  },
  {
   "cell_type": "markdown",
   "metadata": {},
   "source": [
    "#### (a)"
   ]
  },
  {
   "cell_type": "markdown",
   "metadata": {},
   "source": [
    "From the second Newton law we have:"
   ]
  },
  {
   "cell_type": "markdown",
   "metadata": {},
   "source": [
    "(25) $$\\frac{dv}{dt}=-\\frac{F_{0}}{m}e^{\\frac{v}{V}}.$$"
   ]
  },
  {
   "cell_type": "markdown",
   "metadata": {},
   "source": [
    "We can separate the variables and integrate the obtained equation on both sides:"
   ]
  },
  {
   "cell_type": "markdown",
   "metadata": {},
   "source": [
    "(26) $$\\int_{v_{0}}^{v}\\frac{dv}{e^{\\frac{v}{V}}}=\\frac{-F_{0}}{m}\\int_{0}^{t}dt.$$"
   ]
  },
  {
   "cell_type": "markdown",
   "metadata": {},
   "source": [
    "After performing the integration we will get:"
   ]
  },
  {
   "cell_type": "markdown",
   "metadata": {},
   "source": [
    "(27) $$\\left(e^{-\\frac{v}{V}}-e^{-\\frac{v_{0}}{V}}\\right)=\\frac{F_{0}}{mV}t.$$"
   ]
  },
  {
   "cell_type": "markdown",
   "metadata": {},
   "source": [
    "Now, we find $v(t)$:"
   ]
  },
  {
   "cell_type": "markdown",
   "metadata": {},
   "source": [
    "(28) $$v(t)=V\\ln\\left[\\frac{1}{e^{-\\frac{v_{0}}{V}}+\\frac{F_{0}}{mV}t}\\right].$$"
   ]
  },
  {
   "cell_type": "markdown",
   "metadata": {},
   "source": [
    "#### (b)"
   ]
  },
  {
   "cell_type": "markdown",
   "metadata": {},
   "source": [
    "The ball comes instantanously to rest for $v(t_{max})=0$:"
   ]
  },
  {
   "cell_type": "markdown",
   "metadata": {},
   "source": [
    "(29) $$e^{-\\frac{v_{0}}{V}}+\\frac{F_{0}}{mV}t_{max}=1,$$"
   ]
  },
  {
   "cell_type": "markdown",
   "metadata": {},
   "source": [
    "from where we can trivially obtain $t$:"
   ]
  },
  {
   "cell_type": "markdown",
   "metadata": {},
   "source": [
    "(30) $$t_{max}=\\frac{\\left(1-e^{-\\frac{v_{0}}{V}}\\right)mV}{F_{0}}.$$"
   ]
  },
  {
   "cell_type": "markdown",
   "metadata": {},
   "source": [
    "#### (c)"
   ]
  },
  {
   "cell_type": "markdown",
   "metadata": {},
   "source": [
    "By integrating (28) we obtain x(t):"
   ]
  },
  {
   "cell_type": "markdown",
   "metadata": {},
   "source": [
    "(31) $$x(t)=\\int_{0}^{t_{max}}V\\ln{\\left[\\frac{1}{e^{-\\frac{v_{0}}{V}}+\\frac{F_{0}}{mV}t}\\right]}dt,$$"
   ]
  },
  {
   "cell_type": "markdown",
   "metadata": {},
   "source": [
    "(32) $$x(t)=\\frac{m V^{2}}{F_{0}}\\left[1-\\left(\\frac{v_{0}}{V}+1\\right)e^{-\\frac{v_{0}}{V}}\\right].$$"
   ]
  },
  {
   "cell_type": "markdown",
   "metadata": {},
   "source": [
    "Ufff, I hope I derived it correctly!!!!"
   ]
  },
  {
   "cell_type": "markdown",
   "metadata": {},
   "source": [
    "### Problem 2.41"
   ]
  },
  {
   "cell_type": "markdown",
   "metadata": {},
   "source": [
    "A baseball is thrown vertically up with speed $v$ o and is subject to a quadratic drag with\n",
    "magnitude $f(v)=cv^{2}$. Write down the equation of motion for the upward journey (measuring $y$\n",
    "vertically up) and show that it can be rewritten as $\\dot{v}=-g\\left[1+\\left(\\frac{v^{2}}{v_{\\text{term}}^{2}}\\right)\\right]$.\n",
    "Use the $v\\frac{dv}{dx}$ rule as to write $\\dot{v}$ as $\\frac{vdv}{dy}$, and solve the equation of motion by separating variables\n",
    "(put all terms involving $v$ on one side and all terms involving $y$ on the other). Integrate both sides to give $y$\n",
    "in terms of $v$, and hence $v$ as a function of $y$. Show that the baseball's maximum height is:\n",
    "\n",
    "$$y_{\\text{max}}=\\frac{v_{\\text{term}}^{2}}{2g}\\ln{\\left[\\frac{v_{\\text{term}}^{2}+v^{2}}{v_{\\text{term}}^{2}}\\right]}.$$"
   ]
  },
  {
   "cell_type": "markdown",
   "metadata": {},
   "source": [
    "The result mentioned above was obtained in the following way:"
   ]
  },
  {
   "cell_type": "markdown",
   "metadata": {},
   "source": [
    "(33) $$m\\ddot{y}=m\\dot{v}=mv\\frac{dv}{dy}=-mg-cv^{2}.$$"
   ]
  },
  {
   "cell_type": "markdown",
   "metadata": {},
   "source": [
    "Equation (33) can be integrated on both sides so that we get:"
   ]
  },
  {
   "cell_type": "markdown",
   "metadata": {},
   "source": [
    "(34) $$\\int_{v_{0}}^{v}\\frac{vdv}{\\left(1+\\frac{c}{mg}v^{2}\\right)}=\\int_{0}^{y}-g dy,$$"
   ]
  },
  {
   "cell_type": "markdown",
   "metadata": {},
   "source": [
    "which is equivallent to:"
   ]
  },
  {
   "cell_type": "markdown",
   "metadata": {},
   "source": [
    "(35) $$y(t)=\\frac{v_{\\text{term}}^{2}}{2g}\\ln\\left(\\frac{v_{\\text{term}}^{2}+v_{0}^{2}}{v_{\\text{term}}^{2}+v^{2}}\\right).$$"
   ]
  },
  {
   "cell_type": "markdown",
   "metadata": {},
   "source": [
    "We can easily see that $y(t)$ reaches $y_{\\text{max}}$ for $v=0$:"
   ]
  },
  {
   "cell_type": "markdown",
   "metadata": {},
   "source": [
    "(36) $$y_{max}=\\frac{v_{\\text{term}}^{2}}{2g}\\ln\\left(\\frac{v_{\\text{term}}^{2}+v_{0}^{2}}{v_{\\text{term}}^{2}}\\right).$$"
   ]
  },
  {
   "cell_type": "markdown",
   "metadata": {},
   "source": [
    "If $v_{0}=20\\frac{m}{s}$ (about $45\\text{mph}$) and the baseball has the parameters ($m=0.15kg$, $D=7cm$, $c=\\gamma D^{2}$, where $\\gamma=0.25\\frac{N\\cdot s^{2}}{m^{4}}$), what is $y_{\\text{max}}$? Compare with the value in vacum."
   ]
  },
  {
   "cell_type": "markdown",
   "metadata": {},
   "source": [
    "First, let us calculate $v_{\\text{term}}$:"
   ]
  },
  {
   "cell_type": "markdown",
   "metadata": {},
   "source": [
    "(37) $$v_{\\text{term}}=\\sqrt{\\frac{mg}{c}}\\approx 35\\frac{m}{s}.$$"
   ]
  },
  {
   "cell_type": "markdown",
   "metadata": {},
   "source": [
    "For $v_{\\text{term}}$ obtained in () and $v_{0}=20\\frac{m}{s}$ we will get $y_{\\text{max}}\\approx 17.66$m. "
   ]
  },
  {
   "cell_type": "code",
   "execution_count": 30,
   "metadata": {},
   "outputs": [
    {
     "name": "stdout",
     "output_type": "stream",
     "text": [
      "y_max = 17.66 m.\n"
     ]
    }
   ],
   "source": [
    "v_term = 35  #m/s\n",
    "v_0 = 20     #m/s\n",
    "g = 9.8      #m/s^2\n",
    "\n",
    "\n",
    "y_max=(pow(v_term,2)/(2*g))*np.log(((pow(v_term,2)+pow(v_0,2))/pow(v_term,2)))\n",
    "print(\"y_max = {:.4} m.\".format(y_max))"
   ]
  },
  {
   "cell_type": "markdown",
   "metadata": {},
   "source": [
    "Which is very close to the value obtained in vacuum $y_{\\text{max}}=\\frac{v_{0}^{2}}{2g}=20.41$ m."
   ]
  },
  {
   "cell_type": "code",
   "execution_count": 31,
   "metadata": {},
   "outputs": [
    {
     "name": "stdout",
     "output_type": "stream",
     "text": [
      "y_max = 20.41 m.\n"
     ]
    }
   ],
   "source": [
    "v_0 = 20     #m/s\n",
    "g = 9.8      #m/s^2\n",
    "\n",
    "\n",
    "y_max=(pow(v_0,2)/(2*g))\n",
    "print(\"y_max = {:.4} m.\".format(y_max))"
   ]
  },
  {
   "cell_type": "markdown",
   "metadata": {},
   "source": [
    "### Problem 2.42"
   ]
  },
  {
   "cell_type": "markdown",
   "metadata": {},
   "source": [
    "#### Consider again the baseball of Problem 2.41 and write down the equation of motion for the\n",
    "downward journey. (Notice that with a quadratic drag the downward equation is different from the\n",
    "upward one, and has to be treated separately).\n",
    "\n",
    "Find $v$ as a function of $y$ and, given that the downward\n",
    "journey starts at $y_{\\text{max}}$ as given in (),\n",
    "\n",
    "show that the speed when the ball returns to the ground is $\\frac{v_{\\text{term}}v_{0}}{ \\sqrt{v_{\\text{term}}^{2}+v_{0}^{2}}}$. Discuss this result for the cases of very much and very little air resistance.\n",
    "\n",
    "What is the numerical value of this speed for the baseball of Problem 2.41? Compare with the value in a\n",
    "vacuum."
   ]
  },
  {
   "cell_type": "markdown",
   "metadata": {},
   "source": [
    "(38) $$m\\ddot{y}=m\\dot{v}=mv\\frac{dv}{dy}=-mg+cv^{2}.$$"
   ]
  },
  {
   "cell_type": "markdown",
   "metadata": {},
   "source": [
    "Consequently, we get:"
   ]
  },
  {
   "cell_type": "markdown",
   "metadata": {},
   "source": [
    "(39) $$\\int_{0}^{v}\\frac{vdv}{\\left(1-\\frac{v^{2}}{v_{\\text{term}}}\\right)}=-\\int_{y_{max}}^{y}gdy.$$"
   ]
  },
  {
   "cell_type": "markdown",
   "metadata": {},
   "source": [
    "After performing integration on both sides of the above equation we will end up with:"
   ]
  },
  {
   "cell_type": "markdown",
   "metadata": {},
   "source": [
    "(40) $$y-y_{\\text{max}}=\\frac{v_{\\text{term}}^{2}}{2g}\\ln\\left(\\frac{v_{\\text{term}}^{2}-v^{2}}{v_{\\text{term}}^{2}}\\right).$$"
   ]
  },
  {
   "cell_type": "markdown",
   "metadata": {},
   "source": [
    "Now, we need to extract $v$ from equation ():"
   ]
  },
  {
   "cell_type": "markdown",
   "metadata": {},
   "source": [
    "(41) $$v=\\sqrt{v_{\\text{term}}^{2}-e^{\\frac{2g(y-y_{max})}{v_{\\text{term}}^{2}}}v_{\\text{term}}^{2}}.$$"
   ]
  },
  {
   "cell_type": "markdown",
   "metadata": {},
   "source": [
    "When the ball returns to the ground $y$ equals 0. We know from the previous problem that:\n",
    "\n",
    "(42) $$y_{max}=\\frac{v_{\\text{term}}^{2}}{2g}\\ln\\left(\\frac{v_{\\text{term}}^{2}+v_{0}^{2}}{v_{\\text{term}}^{2}}\\right).$$"
   ]
  },
  {
   "cell_type": "markdown",
   "metadata": {},
   "source": [
    "After substituting this equation into () we get:"
   ]
  },
  {
   "cell_type": "markdown",
   "metadata": {},
   "source": [
    "(43) $$v=\\sqrt{v_{\\text{term}}^{2}-\\frac{v_{\\text{term}}^{4}}{v_{\\text{term}}^{2}+v_{0}^{2}}},$$"
   ]
  },
  {
   "cell_type": "markdown",
   "metadata": {},
   "source": [
    "which can be trivially transformed into:"
   ]
  },
  {
   "cell_type": "markdown",
   "metadata": {},
   "source": [
    "(44) $$v=\\frac{v_{\\text{term}}v_{0}}{\\sqrt{v_{\\text{term}}^{2}+v_{0}^{2}}}.$$"
   ]
  },
  {
   "cell_type": "markdown",
   "metadata": {},
   "source": [
    "For huge air resistance $v_{term}<<1$ and so $v$ in (44) will be very small."
   ]
  },
  {
   "cell_type": "markdown",
   "metadata": {},
   "source": [
    "For small air resistance $v_{\\text{term}}>>1$ and so (44) will be close to $v_{0}$."
   ]
  },
  {
   "cell_type": "markdown",
   "metadata": {},
   "source": [
    "For parameters of ball from problem 2.41 we get:"
   ]
  },
  {
   "cell_type": "code",
   "execution_count": 60,
   "metadata": {},
   "outputs": [
    {
     "name": "stdout",
     "output_type": "stream",
     "text": [
      "v = 17.36 m/s.\n"
     ]
    }
   ],
   "source": [
    "v_term = 35  #m/s\n",
    "v_0 = 20     #m/s\n",
    "\n",
    "v=(v_term*v_0)/np.sqrt((pow(v_term,2)+pow(v_0,2)))\n",
    "print(\"v = {:.4} m/s.\".format(v))"
   ]
  },
  {
   "cell_type": "markdown",
   "metadata": {},
   "source": [
    "In vacuum this value will be just $v=v_{0}=20\\frac{m}{s}.$"
   ]
  },
  {
   "cell_type": "markdown",
   "metadata": {},
   "source": [
    "### Problem. 2.54"
   ]
  },
  {
   "cell_type": "markdown",
   "metadata": {},
   "source": [
    "In Section 2.5 we solved the equations of motion (2.68) for the transverse velocity of a charge\n",
    "in a magnetic field by the trick of using the complex number $\\eta = v_{x} + i v_{y}$ . As you might imagine,\n",
    "the equations can certainly be solved without this trick. \n",
    "\n",
    "Here is one way: \n",
    "\n",
    "(a) Differentiate the first of\n",
    "equations (2.68) with respect to $t$ and use the second to give you a second-order differential equation\n",
    "for $v_{x}$ . This is an equation you should recognize [if not, look at Equation (1.55)] and you can write\n",
    "down its general solution. Once you know $v_{x}$ , (2.68) tells you $v_{y}$ .\n",
    "\n",
    "\n",
    "(b) Show that the general solution\n",
    "you get here is the same as the general solution contained in (2.77), as disentangled in Problem 2.52."
   ]
  },
  {
   "cell_type": "markdown",
   "metadata": {},
   "source": [
    "#### (a)"
   ]
  },
  {
   "cell_type": "markdown",
   "metadata": {},
   "source": [
    "In (2.68) there is the following set of equations:"
   ]
  },
  {
   "cell_type": "markdown",
   "metadata": {},
   "source": [
    "(45a) $$\\dot{v}_{x}=\\omega v_{y}$$"
   ]
  },
  {
   "cell_type": "markdown",
   "metadata": {},
   "source": [
    "(45b) $$\\dot{v}_{y}=-\\omega v_{x}.$$"
   ]
  },
  {
   "cell_type": "markdown",
   "metadata": {},
   "source": [
    "After differentiating (45a) with respect to $t$ and substituting $\\dot{v}_{y}$ from (45b) into (45a) we will get:"
   ]
  },
  {
   "cell_type": "markdown",
   "metadata": {},
   "source": [
    "(46) $$\\ddot{v}_{x}=-\\omega^{2} v_{x}.$$"
   ]
  },
  {
   "cell_type": "markdown",
   "metadata": {},
   "source": [
    "The general solution of equation (46) is of the form:"
   ]
  },
  {
   "cell_type": "markdown",
   "metadata": {},
   "source": [
    "(47) $$v_{x}(t)=A \\sin(\\omega t)+B \\cos(\\omega t).$$"
   ]
  },
  {
   "cell_type": "markdown",
   "metadata": {},
   "source": [
    "We can of course rewrite the above as:"
   ]
  },
  {
   "cell_type": "markdown",
   "metadata": {},
   "source": [
    "(48) $$v_{x}(t)=a\\sin(\\delta)\\sin(\\omega t)+a\\cos(\\delta)\\cos(\\omega t)=a \\cos(\\delta-\\omega t),$$"
   ]
  },
  {
   "cell_type": "markdown",
   "metadata": {},
   "source": [
    "where $A=a\\sin(\\delta)$, $B=a\\cos(\\delta)$."
   ]
  },
  {
   "cell_type": "markdown",
   "metadata": {},
   "source": [
    "##### (b)\n",
    "\n",
    "The obtained general solution corresponds to the solution contained in (2.77):"
   ]
  },
  {
   "cell_type": "markdown",
   "metadata": {},
   "source": [
    "(49) $$v_{x}(t)=a\\cos(\\delta-\\omega t)$$"
   ]
  },
  {
   "cell_type": "markdown",
   "metadata": {},
   "source": [
    "From equation (45b) we find that $v_{y}(t)$ must be equal to:"
   ]
  },
  {
   "cell_type": "markdown",
   "metadata": {},
   "source": [
    "(50) $$v_{y}(t)=a\\sin(\\delta-\\omega t).$$"
   ]
  },
  {
   "cell_type": "markdown",
   "metadata": {},
   "source": [
    "Having found $v_{x},v_{y}$ we can procede with finding $\\eta$:"
   ]
  },
  {
   "cell_type": "markdown",
   "metadata": {},
   "source": [
    "(51) $$\\eta=v_{x}+iv_{y},$$"
   ]
  },
  {
   "cell_type": "markdown",
   "metadata": {},
   "source": [
    "(52) $$\\eta=a (i sin(\\delta-\\omega t)+cos(\\delta-\\omega t)),$$"
   ]
  },
  {
   "cell_type": "markdown",
   "metadata": {},
   "source": [
    "(53) $$\\eta=a \\cdot e^{i\\delta - i\\omega t}.$$"
   ]
  },
  {
   "cell_type": "markdown",
   "metadata": {},
   "source": [
    "QED"
   ]
  },
  {
   "cell_type": "markdown",
   "metadata": {},
   "source": [
    "### Problem 3.4"
   ]
  },
  {
   "cell_type": "markdown",
   "metadata": {},
   "source": [
    "Two hobos, each of mass $m_{h}$ , are standing at one end of a stationary railroad flatcar with\n",
    "frictionless wheels and mass $m_{fc}$ . Either hobo can run to the other end of the flatcar and jump off\n",
    "with the same speed $u$ (relative to the car).\n",
    "\n",
    "\n",
    "(a) Use conservation of momentum to find the speed of\n",
    "the recoiling car if the two men run and jump simultaneously. \n",
    "\n",
    "(b) What is it if the second man starts\n",
    "running only after the first has already jumped? Which procedure gives the greater speed to the car?\n",
    "\n",
    "[Hint: The speed $u$ is the speed of either hobo, relative to the car just after he has jumped; it has the\n",
    "same value for either man and is the same in parts (a) and (b).]"
   ]
  },
  {
   "cell_type": "markdown",
   "metadata": {},
   "source": [
    "#### (a)"
   ]
  },
  {
   "cell_type": "markdown",
   "metadata": {},
   "source": [
    "From conservation of momentum we have:"
   ]
  },
  {
   "cell_type": "markdown",
   "metadata": {},
   "source": [
    "(54) $$2m_{h}(u-v)-m_{fc}v=0,$$"
   ]
  },
  {
   "cell_type": "markdown",
   "metadata": {},
   "source": [
    "where $v$ is the final speed of the frictionless flatcar we are looking for."
   ]
  },
  {
   "cell_type": "markdown",
   "metadata": {},
   "source": [
    "From (54) we get that:"
   ]
  },
  {
   "cell_type": "markdown",
   "metadata": {},
   "source": [
    "(55) $$v=\\left(\\frac{2m_{h}}{2m_{h}+m_{fc}}\\right)u.$$"
   ]
  },
  {
   "cell_type": "markdown",
   "metadata": {},
   "source": [
    "#### (b)"
   ]
  },
  {
   "cell_type": "markdown",
   "metadata": {},
   "source": [
    "After the first hobo jumps off the flatcar acceleraters to $v_{1}$:"
   ]
  },
  {
   "cell_type": "markdown",
   "metadata": {},
   "source": [
    "(56) $$m_{h}(u-v_{1})-m_{h}v_{1}-m_{fc}v_{1}=0.$$"
   ]
  },
  {
   "cell_type": "markdown",
   "metadata": {},
   "source": [
    "(57) $$v_{1}=\\left(\\frac{m_{h}}{2m_{h}+m_{fc}}\\right)u$$"
   ]
  },
  {
   "cell_type": "markdown",
   "metadata": {},
   "source": [
    "After the second jump we have:"
   ]
  },
  {
   "cell_type": "markdown",
   "metadata": {},
   "source": [
    "(58) $$-(m_{fc}+m_{h})v_{1}=m_{h}(u-v_{2})-m_{fc}v_{2},$$"
   ]
  },
  {
   "cell_type": "markdown",
   "metadata": {},
   "source": [
    "which translates into:"
   ]
  },
  {
   "cell_type": "markdown",
   "metadata": {},
   "source": [
    "(59) $$v_{2}=\\left(\\frac{2m_{fc}+3m_{h}}{2(m_{fc}+m_{h})}\\right)\\left(\\frac{2m_{h}}{2m_{h}+m_{fc}}\\right)u=\\left(\\frac{2m_{fc}+3m_{h}}{2(m_{fc}+m_{h})}\\right)v,$$"
   ]
  },
  {
   "cell_type": "markdown",
   "metadata": {},
   "source": [
    "Let us notice that the expression in parenthesis in equation (59) is larger than 1 and therefore $v_{2}>v.$"
   ]
  },
  {
   "cell_type": "markdown",
   "metadata": {},
   "source": [
    "Consequently, procedure 2 gives the larger speed to the car."
   ]
  },
  {
   "cell_type": "markdown",
   "metadata": {},
   "source": [
    "### Problem 3.13"
   ]
  },
  {
   "cell_type": "markdown",
   "metadata": {},
   "source": [
    "If you have not already done it, do Problem 3.11 (b) and find the speed $v(t)$ of a rocket\n",
    "accelerating vertically from rest in a gravitational field $g$. Now integrate $v(t)$ and show that the rocket's\n",
    "height as a function of $t$ is:"
   ]
  },
  {
   "cell_type": "markdown",
   "metadata": {},
   "source": [
    "(60) $$y(t)=v_{ex}t-\\frac{1}{2}gt^{2}-\\frac{mv_{ex}}{k}\\ln{\\left(\\frac{m_{0}}{m}\\right)}.$$"
   ]
  },
  {
   "cell_type": "markdown",
   "metadata": {},
   "source": [
    "From 3.11 we know that:"
   ]
  },
  {
   "cell_type": "markdown",
   "metadata": {},
   "source": [
    "(61) $$v(t)=v_{0}-gt+v_{ex}\\ln{\\left[\\frac{m_{0}}{m}t\\right]},$$"
   ]
  },
  {
   "cell_type": "markdown",
   "metadata": {},
   "source": [
    "We can now integrate this on both sides obtaining:"
   ]
  },
  {
   "cell_type": "markdown",
   "metadata": {},
   "source": [
    "(62) $$y(t)=y(t)-y(0)=\\int_{0}^{t} v(t) dt= \\int_{0}^{t} \\left[v_{0} - gt + v_{ex}\\ln{\\left[\\frac{m_{0}}{m}t\\right]}\\right]dt,$$"
   ]
  },
  {
   "cell_type": "markdown",
   "metadata": {},
   "source": [
    "from where we can trivially obtain (60)."
   ]
  },
  {
   "cell_type": "markdown",
   "metadata": {},
   "source": [
    "Using the numbers given in Problem 3.7, estimate the space shuttle's height after two minutes."
   ]
  },
  {
   "cell_type": "code",
   "execution_count": 64,
   "metadata": {},
   "outputs": [
    {
     "name": "stdout",
     "output_type": "stream",
     "text": [
      "k=8.333e+03\n",
      "The shuttle's height after two minutes equals: 3.991e+04 m\n"
     ]
    }
   ],
   "source": [
    "m0=2*pow(10,6)\n",
    "m=pow(10,6)\n",
    "t=120\n",
    "vex=3000\n",
    "v0=0\n",
    "g=9.8\n",
    "\n",
    "k=(m0-m)/t\n",
    "\n",
    "print(\"k={:.4}\".format(k))\n",
    "\n",
    "y=vex*t-((g*t*t)/2)-(m*vex/k)*np.log(m0/m)\n",
    "\n",
    "print(\"The shuttle's height after two minutes equals: {:.4} m\".format(y))"
   ]
  },
  {
   "cell_type": "markdown",
   "metadata": {},
   "source": [
    "###### Problem 3.11"
   ]
  },
  {
   "cell_type": "markdown",
   "metadata": {},
   "source": [
    "(a) Consider a rocket traveling in a straight line subject to an external force $F^{ext}$ acting along\n",
    "the same line. Show that the equation of motion is\n",
    "\n",
    "(63) $$m\\dot{v} = -\\dot{m}v_{ex} + F^{ext}.$$.\n",
    "\n",
    "\n",
    "[Review the derivation of Equation (3.6) but keep the external force term.]"
   ]
  },
  {
   "cell_type": "markdown",
   "metadata": {},
   "source": [
    "The change of momentum of a rocket travelling in a straight line within time interval $dt$ can be expressed as:"
   ]
  },
  {
   "cell_type": "markdown",
   "metadata": {},
   "source": [
    "(64) $$dP = P(t+dt) - P(t) = mdv + dmv_{ex} = F^{ext} dt,$$"
   ]
  },
  {
   "cell_type": "markdown",
   "metadata": {},
   "source": [
    "which translates into:"
   ]
  },
  {
   "cell_type": "markdown",
   "metadata": {},
   "source": [
    "(65) $$m\\dot{v}+\\dot{m}v_{ex}=F^{ext}.$$"
   ]
  },
  {
   "cell_type": "markdown",
   "metadata": {},
   "source": [
    "(b) Specialize to the case of\n",
    "a rocket taking off vertically (from rest) in a gravitational field g, so the equation of motion becomes\n",
    "\n",
    "(66) $$m\\dot{v} = - \\dot{m}v_{ex} - mg$$."
   ]
  },
  {
   "cell_type": "markdown",
   "metadata": {},
   "source": [
    "Assume that the rocket ejects mass at a constant rate, $\\dot{m} = - k$ (where $k$ is a positive constant), so\n",
    "that \n",
    "\n",
    "\n",
    "(67) $$m = m_{0} - kt$$. \n",
    "\n",
    "Solve equation (66) for $v$ as a function of $t$, using separation of variables (that is, rewriting the equation so that all terms involving $v$ are on the left and all terms involving $t$ on the right)."
   ]
  },
  {
   "cell_type": "markdown",
   "metadata": {},
   "source": [
    "(65) $$(m_{0}-kt)\\dot{v}=kv_{ex}-(m_{0}-kt)g,$$"
   ]
  },
  {
   "cell_type": "markdown",
   "metadata": {},
   "source": [
    "After solving this we obtain:"
   ]
  },
  {
   "cell_type": "markdown",
   "metadata": {},
   "source": [
    "(68) $$v(t)=v_{0}-gt+v_{ex}\\ln{\\left[1-\\frac{k}{m_{0}}t\\right]}=v_{0}-gt+v_{ex}\\ln{\\left[\\frac{m_{0}}{m}t\\right]}$$"
   ]
  },
  {
   "cell_type": "markdown",
   "metadata": {},
   "source": [
    "(c) Using the rough data from Problem 3.7, find the space shuttle's speed two minutes into flight,\n",
    "assuming (what is nearly true) that it travels vertically up during this period and that $g$ doesn't change\n",
    "appreciably. Compare with the corresponding result if there were no gravity. "
   ]
  },
  {
   "cell_type": "markdown",
   "metadata": {},
   "source": [
    "###### Data from problem 3.7:"
   ]
  },
  {
   "cell_type": "markdown",
   "metadata": {},
   "source": [
    "$$m_{0}=2\\cdot 10^{6} kg,$$   $$t=120 s,$$ $$m=10^{6} kg,$$ $$v_{ex}=3000\\frac{m}{s},$$ $$v_{0}=0 \\frac{m}{s}.$$"
   ]
  },
  {
   "cell_type": "code",
   "execution_count": 70,
   "metadata": {},
   "outputs": [
    {
     "name": "stdout",
     "output_type": "stream",
     "text": [
      "Space shuttle's speed two minutes into the flight,\n",
      "assuming that it travels vertically up during this period is around: 903.4 m/s\n",
      "\n",
      "In the absence of gravity it is: 2.079e+03 m/s\n"
     ]
    }
   ],
   "source": [
    "m0=2*pow(10,6)\n",
    "m=pow(10,6)\n",
    "t=120\n",
    "vex=3000\n",
    "v0=0\n",
    "g=9.8\n",
    "\n",
    "v=v0-g*t+vex*np.log(m0/m)\n",
    "\n",
    "v_no_gravity=v0+vex*np.log(m0/m)\n",
    "\n",
    "print(\"Space shuttle's speed two minutes into the flight,\\nassuming that it travels vertically up during this period is around: {:.4} m/s\".format(v))\n",
    "\n",
    "\n",
    "print(\"\\nIn the absence of gravity it is: {:.4} m/s\".format(v_no_gravity))"
   ]
  },
  {
   "cell_type": "markdown",
   "metadata": {},
   "source": [
    "(d) Describe what would happen to a rocket that was designed so that the first term on the right of Equation (66) was smaller than the initial value of the second."
   ]
  },
  {
   "cell_type": "markdown",
   "metadata": {},
   "source": [
    "It will stay on the ground for a while ejecting spent fuel until its mass is small enough for the thrust to overcome its weight."
   ]
  },
  {
   "cell_type": "markdown",
   "metadata": {},
   "source": [
    "### Problem 3.37"
   ]
  },
  {
   "cell_type": "markdown",
   "metadata": {},
   "source": [
    "A system consists of $N$ masses $m_{\\alpha}$ at positions $r_{\\alpha}$ relative to a fixed origin $O$. Let $r_{\\alpha}^{'}$ denote\n",
    "the position of $m_{\\alpha}$ relative to the CM; that is, $r_{\\alpha}^{'} = r_{\\alpha} - R$.\n",
    "\n",
    "(a) Make a sketch to illustrate this last equation.\n",
    "\n"
   ]
  },
  {
   "cell_type": "markdown",
   "metadata": {},
   "source": [
    "![](cm_pict.png)"
   ]
  },
  {
   "cell_type": "markdown",
   "metadata": {},
   "source": [
    "(b) Prove the useful relation that $\\Sigma \\ m_{\\alpha} r_{\\alpha}^{'} = 0$. Can you explain why this relation is nearly\n",
    "obvious? "
   ]
  },
  {
   "cell_type": "markdown",
   "metadata": {},
   "source": [
    "(69) $$\\sum m_{\\alpha} \\vec{r}_{\\alpha}^{'} = \\sum m_{\\alpha} \\left(\\vec{r}_{\\alpha}-\\vec{R}\\right)=\\sum m_{\\alpha} \\vec{r}_{\\alpha}-\\left( \\sum m_{\\alpha}\\right)\\vec{R}=\\left(\\sum m_{\\alpha}\\right)\\vec{R}-\\left( \\sum m_{\\alpha}\\right)\\vec{R}=0.$$"
   ]
  },
  {
   "cell_type": "markdown",
   "metadata": {},
   "source": [
    "(c) Use this relation to prove the result (3.28) that the rate of change of the angular momentum\n",
    "about the CM is equal to the total external torque about the CM. (This result is surprising since the CM\n",
    "may be accelerating, so that it is not necessarily a fixed point in any inertial frame.)"
   ]
  },
  {
   "cell_type": "markdown",
   "metadata": {},
   "source": [
    "(70) $$\\frac{dL}{dt}=\\sum \\dot{r}_{\\alpha}^{'} \\times m_{\\alpha}\\dot{r}_{\\alpha}^{'}+\\sum r_{\\alpha}^{'} \\times m \\ddot{r}_{\\alpha}^{'}=\\sum r_{\\alpha} \\times m_{\\alpha}\\left(\\ddot{r}_{\\alpha}-\\ddot{R}\\right)=\\sum r_{\\alpha} \\times F_{\\alpha}-\\left(\\sum m_{\\alpha}r_{\\alpha}^{'}\\right) \\times \\ddot{R}= \\sum r_{\\alpha} \\times F_{\\alpha} =\\Gamma^{ext}.$$"
   ]
  },
  {
   "cell_type": "markdown",
   "metadata": {},
   "source": [
    "The last equality ($\\sum r_{\\alpha} \\times F_{\\alpha} =\\Gamma^{ext}$)is valid based on the fact that sum of internal torques is zero which was shown in 3.25 Taylor. I didn't want to repeat here something I can easily check up in the book when necessary."
   ]
  },
  {
   "cell_type": "markdown",
   "metadata": {},
   "source": [
    "### Problem 4.4"
   ]
  },
  {
   "cell_type": "markdown",
   "metadata": {},
   "source": [
    "A particle of mass $m$ is moving on a frictionless horizontal table and is attached to a massless\n",
    "string, whose other end passes through a hole in the table, where I am holding it. Initially the particle is\n",
    "moving in a circle of radius $r_{0}$ with angular velocity $\\omega_{0}$ , but I now pull the string down through the hole\n",
    "until a length r remains between the hole and the particle."
   ]
  },
  {
   "cell_type": "markdown",
   "metadata": {},
   "source": [
    "(a) What is the particle's angular velocity now? "
   ]
  },
  {
   "cell_type": "markdown",
   "metadata": {},
   "source": [
    "In order to solve this problem we need to make use of the conservation of angular momentum. In this case it will take the form of:"
   ]
  },
  {
   "cell_type": "markdown",
   "metadata": {},
   "source": [
    "(71) $$mr_{0}^{2}\\omega_{0}=mr^{2}\\omega,$$"
   ]
  },
  {
   "cell_type": "markdown",
   "metadata": {},
   "source": [
    "which yields:"
   ]
  },
  {
   "cell_type": "markdown",
   "metadata": {},
   "source": [
    "(72) $$\\omega=\\left(\\frac{r_{0}^{2}}{r^{2}}\\right)\\omega_{0}.$$"
   ]
  },
  {
   "cell_type": "markdown",
   "metadata": {},
   "source": [
    "(b) Assuming that I pull the string so slowly that we can approximate the particle's path by a circle of slowly shrinking radius, calculate the work I did pulling the string."
   ]
  },
  {
   "cell_type": "markdown",
   "metadata": {},
   "source": [
    "Centripetal force performs work therefore:"
   ]
  },
  {
   "cell_type": "markdown",
   "metadata": {},
   "source": [
    "(73) $$W=\\int_{r_{0}}^{r}m\\omega(r)^{2}rdr=\\frac{m\\omega_{0}^{2}r_{0}^{2}}{2}-\\frac{m\\omega_{0}^{2}r_{0}^{4}}{2r^{2}}.$$"
   ]
  },
  {
   "cell_type": "markdown",
   "metadata": {},
   "source": [
    "(c) Compare your answer to part (b) with the particle's gain in kinetic energy."
   ]
  },
  {
   "cell_type": "markdown",
   "metadata": {},
   "source": [
    "The initial kinetic energy can be expressed as:"
   ]
  },
  {
   "cell_type": "markdown",
   "metadata": {},
   "source": [
    "(74) $$E_{\\text{initial}}=\\frac{m\\omega_{0}^{2}r_{0}^{2}}{2}.$$"
   ]
  },
  {
   "cell_type": "markdown",
   "metadata": {},
   "source": [
    "The final kinetic energy of the mass can be written as:"
   ]
  },
  {
   "cell_type": "markdown",
   "metadata": {},
   "source": [
    "(75) $$E_{\\text{final}}=\\frac{m\\omega^{2}r^{2}}{2}=\\frac{m\\left(\\omega_{0}^{2}\\frac{r_{0}^{4}}{r^{4}}\\right)r^{2}}{2}=\\frac{m\\omega_{0}^{2}r_{0}^{4}}{2r^{2}}.$$"
   ]
  },
  {
   "cell_type": "markdown",
   "metadata": {},
   "source": [
    "According to the conserwation of energy law:"
   ]
  },
  {
   "cell_type": "markdown",
   "metadata": {},
   "source": [
    "(76) $$\\Delta E = -W,$$"
   ]
  },
  {
   "cell_type": "markdown",
   "metadata": {},
   "source": [
    "where $\\Delta E$ is the energy change and $-W$ is the work done by the centripetal force, which is the internal force of the system."
   ]
  },
  {
   "cell_type": "markdown",
   "metadata": {},
   "source": [
    "(77) $$E_{\\text{initial}}=E_{\\text{final}}+W,$$"
   ]
  },
  {
   "cell_type": "markdown",
   "metadata": {},
   "source": [
    "which is can be easily shown to be true considering the values of the initial nad final energies (74,75)."
   ]
  },
  {
   "cell_type": "markdown",
   "metadata": {},
   "source": [
    "### Problem 4.9"
   ]
  },
  {
   "cell_type": "markdown",
   "metadata": {},
   "source": [
    " (a) The force exerted by a one-dimensional spring, fixed at one end, is $F=-kx$, where $x$ is the\n",
    "displacement of the other end from its equilibrium position. \n",
    "\n",
    "Assuming that this force is conservative\n",
    "(which it is) show that the corresponding potential energy is $U = \\frac{1}{2}kx^{2}$, if we choose $U$ to be zero at\n",
    "the equilibrium position. "
   ]
  },
  {
   "cell_type": "markdown",
   "metadata": {},
   "source": [
    "(78) $$F=-kx$$"
   ]
  },
  {
   "cell_type": "markdown",
   "metadata": {},
   "source": [
    "$x$ at the equilibrium position is $x_{0}=0$:"
   ]
  },
  {
   "cell_type": "markdown",
   "metadata": {},
   "source": [
    "(79) $$\\Delta U = U(x_{0}=0)-U(x)=\\int_{x_{0}=0}^{x}Fdx=\\int_{x_{0}=0}^{x}-kxdx=\\frac{-kx^{2}}{2},$$"
   ]
  },
  {
   "cell_type": "markdown",
   "metadata": {},
   "source": [
    "and thus"
   ]
  },
  {
   "cell_type": "markdown",
   "metadata": {},
   "source": [
    "(80) $$U(x)=\\frac{kx^{2}}{2}.$$"
   ]
  },
  {
   "cell_type": "markdown",
   "metadata": {},
   "source": [
    "(b) Suppose that this spring is hung vertically from the ceiling with a mass $m$\n",
    "suspended from the other end and constrained to move in the vertical direction only. Find the extension\n",
    "$x_{0}$ of the new equilibrium position with the suspended mass."
   ]
  },
  {
   "cell_type": "markdown",
   "metadata": {},
   "source": [
    "(81) $$F= mg-kx_{0}=0$$"
   ]
  },
  {
   "cell_type": "markdown",
   "metadata": {},
   "source": [
    "Therefore extension equals:"
   ]
  },
  {
   "cell_type": "markdown",
   "metadata": {},
   "source": [
    "(82) $$x_{0}=\\frac{mg}{k}.$$"
   ]
  },
  {
   "cell_type": "markdown",
   "metadata": {},
   "source": [
    "Show that the total potential energy (spring plus gravity) has the same form $\\frac{1}{2}ky^{2}$ if we use the coordinate $y$ equal to the displacement measured\n",
    "from the new equilibrium position at $x = x_{0}$ (and redefine our reference point so that $U = 0$ at $y = 0$)."
   ]
  },
  {
   "cell_type": "markdown",
   "metadata": {},
   "source": [
    "(83) $$F(y)=mg-k(y+x_{0})$$"
   ]
  },
  {
   "cell_type": "markdown",
   "metadata": {},
   "source": [
    "#### After integrating the above we get:"
   ]
  },
  {
   "cell_type": "markdown",
   "metadata": {},
   "source": [
    "(84) $$\\Delta U(y)=-mgy-\\frac{k(x_{0}+y)^{2}}{2}+\\frac{kx_{0}^{2}}{2}=\\frac{ky^{2}}{2},$$"
   ]
  },
  {
   "cell_type": "markdown",
   "metadata": {},
   "source": [
    "Consequently,"
   ]
  },
  {
   "cell_type": "markdown",
   "metadata": {},
   "source": [
    "(85) $$U(y)=\\frac{ky^{2}}{2}.$$"
   ]
  },
  {
   "cell_type": "markdown",
   "metadata": {},
   "source": [
    "QED."
   ]
  },
  {
   "cell_type": "markdown",
   "metadata": {},
   "source": [
    "### Problem 4.24"
   ]
  },
  {
   "cell_type": "markdown",
   "metadata": {},
   "source": [
    "An infinitely long, uniform rod of mass $\\mu$, per unit length is situated on the $z$ axis.\n",
    "\n",
    "\n",
    "(a) Calculate the gravitational force $F$ on a point mass $m$ at a distance $\\rho$ from the $z$ axis. (The gravitational force between two point masses is given in Problem 4.21.) "
   ]
  },
  {
   "cell_type": "markdown",
   "metadata": {},
   "source": [
    "We can easily see from the symmetry of the problem that:"
   ]
  },
  {
   "cell_type": "markdown",
   "metadata": {},
   "source": [
    "(86) $$F_{\\rho}=-2\\int_{0}^{\\infty}\\frac{2Gm\\mu}{\\left(z^{2}+\\rho^{2}\\right)}\\frac{z}{\\sqrt{z^{2}+\\rho^{2}}}dz=-\\frac{2Gm\\mu}{\\rho}.$$\n",
    "(87) $$F_{\\phi}=0$$\n",
    "(88) $$F_{z}=0$$"
   ]
  },
  {
   "cell_type": "markdown",
   "metadata": {},
   "source": [
    "(b) Rewrite $F$ in terms of the rectangular coordinates $(x, y, z)$ of the point and verify that $\\nabla \\times F = 0$."
   ]
  },
  {
   "cell_type": "markdown",
   "metadata": {},
   "source": [
    "(89) $$F_{x}=-\\frac{2Gm\\mu}{\\rho}\\cos{\\phi}=-\\frac{2Gm\\mu}{\\rho}\\frac{x}{\\sqrt{x^{2}+y^{2}}}$$\n",
    "\n",
    "(90) $$F_{y}=-\\frac{2Gm\\mu}{\\rho}\\sin{\\phi}=-\\frac{2Gm\\mu}{\\rho}\\frac{y}{\\sqrt{x^{2}+y^{2}}}$$\n",
    "\n",
    "(91) $$F_{z}=0$$"
   ]
  },
  {
   "cell_type": "markdown",
   "metadata": {},
   "source": [
    "(92) $$\\nabla \\times F = \\left[\\frac{\\partial F_{z}}{\\partial y}-\\frac{\\partial F_{y}}{\\partial z}\\right]\\hat{x}+\\left[\\frac{\\partial F_{x}}{\\partial z}-\\frac{\\partial F_{z}}{\\partial x}\\right]\\hat{y}+\\left[\\frac{\\partial F_{y}}{\\partial x}-\\frac{\\partial F_{x}}{\\partial y}\\right]\\hat{z}.$$"
   ]
  },
  {
   "cell_type": "markdown",
   "metadata": {},
   "source": [
    "We see that the first two vector components (the first two expressions in squared parenthesis) are 0 as:"
   ]
  },
  {
   "cell_type": "markdown",
   "metadata": {},
   "source": [
    "(93) $$\\frac{\\partial F_{z}}{\\partial y}=\\frac{\\partial F_{y}}{\\partial z}=\\frac{\\partial F_{x}}{\\partial z}=\\frac{\\partial F_{z}}{\\partial x}=0.$$"
   ]
  },
  {
   "cell_type": "markdown",
   "metadata": {},
   "source": [
    "When it comes to $\\nabla \\times F$ component along $\\hat{z}$ we have:"
   ]
  },
  {
   "cell_type": "markdown",
   "metadata": {},
   "source": [
    "(94) $$\\frac{\\partial F_{y}}{\\partial x}=\\frac{\\partial F_{x}}{\\partial y},$$"
   ]
  },
  {
   "cell_type": "markdown",
   "metadata": {},
   "source": [
    "which can be trivially obtained after substitution of (89,90)."
   ]
  },
  {
   "cell_type": "markdown",
   "metadata": {},
   "source": [
    "\n",
    "(c) Show that $\\nabla \\times F = 0$ using the expression for $\\nabla \\times F$ in cylindrical polar coordinates given inside the back cover."
   ]
  },
  {
   "cell_type": "markdown",
   "metadata": {},
   "source": [
    "(95) $$\\nabla \\times F = \\left[\\frac{1}{\\rho}\\frac{\\partial F_{z}}{\\partial \\phi}-\\frac{\\partial F_{\\phi}}{\\partial z}\\right]\\hat{\\rho}+\\left[\\frac{\\partial F_{\\rho}}{\\partial z}-\\frac{\\partial F_{z}}{\\partial \\rho}\\right]\\hat{\\phi}+\\frac{1}{\\rho}\\left[\\frac{\\partial}{\\partial \\rho}\\left(\\rho F_{\\phi}\\right)-\\frac{\\partial F_{\\rho}}{\\partial \\phi}\\right]\\hat{z}.$$"
   ]
  },
  {
   "cell_type": "markdown",
   "metadata": {},
   "source": [
    "In this case the situation is even simpler as:"
   ]
  },
  {
   "cell_type": "markdown",
   "metadata": {},
   "source": [
    "(96) $$\\frac{\\partial F_{z}}{\\partial \\phi}=\\frac{\\partial F_{\\phi}}{\\partial z}=\\frac{\\partial F_{\\rho}}{\\partial z}=\\frac{\\partial F_{z}}{\\partial \\rho}=\\frac{\\partial (\\rho F_{\\phi})}{\\partial \\rho}=\\frac{\\partial F_{\\rho}}{\\partial \\phi}=0.$$"
   ]
  },
  {
   "cell_type": "markdown",
   "metadata": {},
   "source": [
    "(d) Find the corresponding potential energy $U$."
   ]
  },
  {
   "cell_type": "markdown",
   "metadata": {},
   "source": [
    "The potential energy is:"
   ]
  },
  {
   "cell_type": "markdown",
   "metadata": {},
   "source": [
    "(97) $$\\Delta U =\\int_{\\rho_{0}}^{\\rho}-\\frac{2Gm\\mu}{\\rho} d\\rho=2Gm\\mu\\ln{\\left(\\frac{\\rho_{0}}{\\rho}\\right)}.$$"
   ]
  },
  {
   "cell_type": "markdown",
   "metadata": {},
   "source": [
    "Which can be interpreted as potential energy after setting the initial value of potential energy at distance $\\rho_{0}$. If we try to set $\\rho_{0}=\\infty$ and $U(\\infty)=0$ we will stumble across a problem with normalisation. "
   ]
  },
  {
   "cell_type": "markdown",
   "metadata": {},
   "source": [
    "### Probelm 4.45"
   ]
  },
  {
   "cell_type": "markdown",
   "metadata": {},
   "source": [
    "In Section 4.8, I proved that a force $\\bf{\\vec{F}}(\\bf{\\vec{r}}) = \\bf{f(\\vec{r})} \\hat{r}$ that is central and conservative is automatically spherically symmetric. Here is an alternative proof: Consider the two paths $\\text{ACB}$ and $\\text{ADB}$ of Figure 4.29, but with $\\bf{\\vec{r}}_{B} = \\bf{\\vec{r}}_{A} + d\\bf{\\vec{r}}$ where $\\bf{d\\vec{r}}$ is infinitesimal. Write down the work done by $\\bf{\\vec{F}}(\\bf{\\vec{r}})$ going\n",
    "around both paths, and use the fact that they must be equal to prove that the magnitude function $\\bf{f}(\\bf{\\vec{r}})$ \n",
    "must be the same at points A and D; that is, $\\bf{f}(\\bf{\\vec{r}})$ $= f(r)$ and the force is spherically symmetric."
   ]
  },
  {
   "cell_type": "markdown",
   "metadata": {},
   "source": [
    "$F$ is conservative thus:\n",
    "\n",
    "(98) $$W_{ACB}=W_{ADB}.$$"
   ]
  },
  {
   "cell_type": "markdown",
   "metadata": {},
   "source": [
    "Since $F$ is central we know that: \n",
    "\n",
    "(99) $$W_{AD}=W_{BC}=0.$$"
   ]
  },
  {
   "cell_type": "markdown",
   "metadata": {},
   "source": [
    "Therefore we see that $W_{AC}=W_{DB}$, or equivallently $\\bf{f}(\\vec{r}_{A})\\hat{r}\\cdot d\\vec{r}=\\bf{f}(\\vec{r}_{D})\\hat{r}\\cdot d\\vec{r}$."
   ]
  },
  {
   "cell_type": "markdown",
   "metadata": {},
   "source": [
    "A and D can be any two points at distance $|\\vec{r}|$ from the origin."
   ]
  },
  {
   "cell_type": "markdown",
   "metadata": {},
   "source": [
    "Consequently, $\\bf{f}(\\bf{\\vec{r}})$ depends only on $|\\vec{\\bf{r}}|$, which is to say that $\\bf{f}(\\bf{\\vec{r}})$ is spherically symmetric."
   ]
  },
  {
   "cell_type": "markdown",
   "metadata": {},
   "source": [
    "### Problem 5.4\n",
    "\n",
    "An unusual pendulum is made by fixing a string to a horizontal cylinder of radius $R$, wrapping\n",
    "the string several times around the cylinder, and then tying mass $m$ to the loose end. In equilibrium\n",
    "the mass hangs a distance $l_{0}$ vertically below the edge of the cylinder. Find the potential energy if the\n",
    "pendulum has swung to an angle $\\phi$ from the vertical. Show that for small angles, it can be written in\n",
    "the Hooke's law form $U = \\frac{k\\phi^{2}}{2}$. Comment on the value of $k$."
   ]
  },
  {
   "cell_type": "markdown",
   "metadata": {},
   "source": [
    "If we mark the deviation from equillibrium by $\\Delta x$ and set $U(0)=0$ it becomes clear that the potential energy can be written as:"
   ]
  },
  {
   "cell_type": "markdown",
   "metadata": {},
   "source": [
    "(100) $$U(\\Delta x)=mg\\Delta x=mg\\left(R-R\\cos{\\phi}\\right)=mgR\\left(1-\\cos{\\phi}\\right).$$"
   ]
  },
  {
   "cell_type": "markdown",
   "metadata": {},
   "source": [
    "For small angles the value of the energy potential can be safely approximated by:"
   ]
  },
  {
   "cell_type": "markdown",
   "metadata": {},
   "source": [
    "(101) $$U(\\phi)=U(0)+U'(0)\\phi+\\frac{1}{2}U''(0)\\phi^{2}.$$"
   ]
  },
  {
   "cell_type": "markdown",
   "metadata": {},
   "source": [
    "After substituting (100) into (101) we get:"
   ]
  },
  {
   "cell_type": "markdown",
   "metadata": {},
   "source": [
    "(102) $$U(\\phi)=\\frac{1}{2}mgR\\phi^{2}=\\frac{1}{2}k\\phi^{2},$$"
   ]
  },
  {
   "cell_type": "markdown",
   "metadata": {},
   "source": [
    "where $k=mgR$."
   ]
  },
  {
   "cell_type": "markdown",
   "metadata": {},
   "source": [
    "As you can see $k$ grows with $m$, $g$, $R$. The larger the $R$ the larger the $\\Delta x=R(1-\\cos{\\phi})$ corresponding to the small change of parameter $\\phi$. Massive bodies have larger potential energies and thus the dependence of $U(\\phi)$ on $g$ is only natural. As far as $g$ is concerned the larger it is the stronger the attracting gravitational force between the oscillating mass and the planet."
   ]
  },
  {
   "cell_type": "markdown",
   "metadata": {},
   "source": [
    "### Probelm 5.18\n",
    "\n",
    "\n",
    "The mass shown from above in Figure 5.27 is resting on a frictionless horizontal table. Each\n",
    "of the two identical springs has force constant $k$ and unstretched length $l_{0}$ . At equilibrium the mass rests\n",
    "at the origin, and the distances a are not necessarily equal to $l_{0}$ . (That is, the springs may already be\n",
    "stretched or compressed.) Show that when the mass moves to a position $(x, y)$, with $x$ and $y$ small, the\n",
    "potential energy has the form (5.104) (Problem 5.14) for an anisotropic oscillator. Show that if $a<l_{0}$\n",
    "the equilibrium at the origin is unstable and explain why."
   ]
  },
  {
   "cell_type": "markdown",
   "metadata": {},
   "source": [
    "We can write the energy of the system as:"
   ]
  },
  {
   "cell_type": "markdown",
   "metadata": {},
   "source": [
    "(103) $$U=\\frac{1}{2}k\\left(l_{+}-l_{0}\\right)^{2}+\\frac{1}{2}k\\left(l_{-}-l_{0}\\right)^{2},$$"
   ]
  },
  {
   "cell_type": "markdown",
   "metadata": {},
   "source": [
    "where \n",
    "\n",
    "(104) $$l_{+}=\\sqrt{(a+x)^{2}+y^{2}},$$\n",
    "\n",
    "(105) $$l_{-}=\\sqrt{(a-x)^{2}+y^{2}}.$$"
   ]
  },
  {
   "cell_type": "markdown",
   "metadata": {},
   "source": [
    "We can approximate (104, 105) using Taylor expansion:"
   ]
  },
  {
   "cell_type": "markdown",
   "metadata": {},
   "source": [
    "(106) $$l_{+}\\approx a+x+\\frac{y^{2}}{2a}.$$"
   ]
  },
  {
   "cell_type": "markdown",
   "metadata": {},
   "source": [
    "(107) $$l_{-}\\approx a-x+\\frac{y^{2}}{2a}.$$"
   ]
  },
  {
   "cell_type": "markdown",
   "metadata": {},
   "source": [
    "Now if we substitute the two above equations into (), we will get:"
   ]
  },
  {
   "cell_type": "markdown",
   "metadata": {},
   "source": [
    "(108) $$U=\\frac{1}{2}k\\left(a+x+\\frac{y^{2}}{2a}-l_{0}\\right)^{2}+\\frac{1}{2}k\\left(a-x+\\frac{y^{2}}{2a}-l_{0}\\right)^{2},$$"
   ]
  },
  {
   "cell_type": "markdown",
   "metadata": {},
   "source": [
    "After applying short multiplication formulas and treating $\\frac{y^{4}}{4a^{2}}$ as 0 we end up with a simplified expression:"
   ]
  },
  {
   "cell_type": "markdown",
   "metadata": {},
   "source": [
    "(109) $$U=k\\left(a-l_{0}\\right)^{2}+kx^{2}+k\\frac{\\left(a-l_{0}\\right)}{a}y^{2}.$$"
   ]
  },
  {
   "cell_type": "markdown",
   "metadata": {},
   "source": [
    "We can shift the potential energy by vector of magnitude having the opposite value to the first term in (109). Consequently, we end up a 2-D harmonic anisotropic oscillator with two different values of $k$, namely ($k_{x}$, $k_{y}$):"
   ]
  },
  {
   "cell_type": "markdown",
   "metadata": {},
   "source": [
    "(110) $$U=kx^{2}+k\\frac{(a-l_{0})}{a}y^{2},$$"
   ]
  },
  {
   "cell_type": "markdown",
   "metadata": {},
   "source": [
    "where $k_{x}=2k$; $k_{y}=2k\\frac{(a-l_{0})}{a}.$"
   ]
  },
  {
   "cell_type": "markdown",
   "metadata": {},
   "source": [
    "We can easily see that for ($a<l_{0}$) $k_{y}<0$. This means that we can decrease $U$ by moving mass away from equilibrium in the $y$ direction. It can be shown that we have the saddle point at the origin. Hessian has negative determinant for $(a<l_{0})$."
   ]
  },
  {
   "cell_type": "markdown",
   "metadata": {},
   "source": [
    "Below I write out the elements of Hessian:"
   ]
  },
  {
   "cell_type": "markdown",
   "metadata": {},
   "source": [
    "$$h_{11}=\\frac{\\partial^{2}U}{\\partial^{2}x}=2k.$$"
   ]
  },
  {
   "cell_type": "markdown",
   "metadata": {},
   "source": [
    "$$h_{22}=\\frac{\\partial^{2}U}{\\partial^{2}y}=2k\\frac{a-l_{0}}{a}.$$"
   ]
  },
  {
   "cell_type": "markdown",
   "metadata": {},
   "source": [
    "$$h_{12}=\\frac{\\partial^{2} U}{\\partial x \\partial y}=\\frac{\\partial^{2} U}{\\partial y \\partial x}=h_{21}=2kx+2k\\frac{(a-l_{0})}{a}y.$$"
   ]
  },
  {
   "cell_type": "markdown",
   "metadata": {},
   "source": [
    "The determinant of this hessian can be expressed as:"
   ]
  },
  {
   "cell_type": "markdown",
   "metadata": {},
   "source": [
    "$$h_{11}\\cdot h_{22}-h_{12}\\cdot h_{21}<0.$$"
   ]
  },
  {
   "cell_type": "markdown",
   "metadata": {},
   "source": [
    "The term which is the product od diagonal elements is negative:"
   ]
  },
  {
   "cell_type": "markdown",
   "metadata": {},
   "source": [
    "$$h_{11}\\cdot h_{22}=4k^{2}\\frac{(a-l_{0})}{a}<0.$$"
   ]
  },
  {
   "cell_type": "markdown",
   "metadata": {},
   "source": [
    "The second term which is a product of non-diagonal terms is positive: "
   ]
  },
  {
   "cell_type": "markdown",
   "metadata": {},
   "source": [
    "$$h_{12}\\cdot h_{21}=\\left(2kx+2k\\frac{(a-l_{0})}{a}y\\right)^{2}.$$"
   ]
  },
  {
   "cell_type": "markdown",
   "metadata": {},
   "source": [
    "The determinant is therefore of the form:"
   ]
  },
  {
   "cell_type": "markdown",
   "metadata": {},
   "source": [
    "$$\\text{negative term}-\\text{positive term}<0.$$"
   ]
  },
  {
   "cell_type": "markdown",
   "metadata": {},
   "source": [
    "### Problem 5.35\n",
    "\n",
    "This problem is to refresh your memory about some properties of complex numbers needed\n",
    "at several points in this chapter, but especially in deriving the resonance formula (5.64).\n",
    "\n",
    "\n",
    "(a) Prove that any complex number $z = x+iy$ (with $x$ and $y$ real) can be written as $z = re^{i\\theta}$ where $r$ and $\\theta$ are the\n",
    "polar coordinates of $z$ in the complex plane. (Remember Euler's formula.) \n",
    "\n",
    "\n"
   ]
  },
  {
   "cell_type": "markdown",
   "metadata": {},
   "source": [
    "(111) $$z=\\sqrt{x^{2}+y^{2}}\\left[\\frac{x}{\\sqrt{x^{2}+y^{2}}}+\\frac{iy}{\\sqrt{x^{2}+y^{2}}}\\right]$$"
   ]
  },
  {
   "cell_type": "markdown",
   "metadata": {},
   "source": [
    "In a triangle with three edges of length $\\left(x, y, \\sqrt{x^{2}+y^{2}}\\right),$ where $\\theta$ is the angle between $x$ and $\\sqrt{x^{2}+y^{2}}$ we can write:"
   ]
  },
  {
   "cell_type": "markdown",
   "metadata": {},
   "source": [
    "(112) $$\\frac{x}{\\sqrt{x^{2}+y^{2}}}=\\cos{\\theta}.$$"
   ]
  },
  {
   "cell_type": "markdown",
   "metadata": {},
   "source": [
    "(113) $$\\frac{y}{\\sqrt{x^{2}+y^{2}}}=\\sin{\\theta}.$$"
   ]
  },
  {
   "cell_type": "markdown",
   "metadata": {},
   "source": [
    "Consequently () can be written as:"
   ]
  },
  {
   "cell_type": "markdown",
   "metadata": {},
   "source": [
    "(114) $$z=\\sqrt{x^{2}+y^{2}}\\left(\\cos{\\theta}+i\\sin{\\theta}\\right).$$"
   ]
  },
  {
   "cell_type": "markdown",
   "metadata": {},
   "source": [
    "Euler's formula tells us that $\\left(\\cos{\\theta}+i\\sin{\\theta}\\right)=e^{i\\theta}$ and thus:"
   ]
  },
  {
   "cell_type": "markdown",
   "metadata": {},
   "source": [
    "(115) $$z=\\sqrt{x^{2}+y^{2}}e^{i\\theta}.$$"
   ]
  },
  {
   "cell_type": "markdown",
   "metadata": {},
   "source": [
    "Now let us notice that $\\sqrt{x^{2}+y^{2}}$ can be interpreted as $r$ in polar coordinates. As a result we end up with:"
   ]
  },
  {
   "cell_type": "markdown",
   "metadata": {},
   "source": [
    "(116) $$z=re^{i\\theta}.$$\n",
    "\n",
    "\n",
    "QED"
   ]
  },
  {
   "cell_type": "markdown",
   "metadata": {},
   "source": [
    "(b) Prove that the absolute value of $z$, defined as $|z| = r$, is also given by $|z|^{2} = zz^{*}$, where $z^{*}$ denotes the complex conjugate of $z$, defined as $z^{*} = x — iy$. "
   ]
  },
  {
   "cell_type": "markdown",
   "metadata": {},
   "source": [
    "(117) $$zz^{*}=\\left(x+iy\\right)\\left(x-iy\\right)=x^{2}+y^{2}.$$"
   ]
  },
  {
   "cell_type": "markdown",
   "metadata": {},
   "source": [
    "We also know that $|z|^{2}=r^{2}$ which follows from $|z|=r$. What is more we can also interpret $r$ as $\\sqrt{x^{2}+y^{2}}$ and thus:"
   ]
  },
  {
   "cell_type": "markdown",
   "metadata": {},
   "source": [
    "(118) $$|z|^{2}=r^{2}=x^{2}+y^{2}.$$"
   ]
  },
  {
   "cell_type": "markdown",
   "metadata": {},
   "source": [
    "If we look at () and () it becomes transparent that relation () must be true:"
   ]
  },
  {
   "cell_type": "markdown",
   "metadata": {},
   "source": [
    "(119) $$|z|^{2}=zz^{*}=r^{2}.$$ QED"
   ]
  },
  {
   "cell_type": "markdown",
   "metadata": {},
   "source": [
    "(c) Prove that $z^{*} =re^{-i\\theta}$."
   ]
  },
  {
   "cell_type": "markdown",
   "metadata": {},
   "source": [
    "(120) $$z^{*}=x-iy=\\sqrt{x^{2}+y^{2}}\\left[\\frac{x}{\\sqrt{x^{2}+y^{2}}}-\\frac{iy}{\\sqrt{x^{2}+y^{2}}}\\right]=r\\left(\\cos{\\theta}-i\\sin{\\theta}\\right)=\\left(\\cos{(-\\theta)}+i\\sin{(-\\theta)}\\right)=\\text{Eulter's formula}=re^{-i\\theta},$$"
   ]
  },
  {
   "cell_type": "markdown",
   "metadata": {},
   "source": [
    "where we denote $r=\\sqrt{x^{2}+y^{2}}$, $\\cos{\\theta}=\\frac{x}{\\sqrt{x^{2}+y^{2}}}$, $\\sin{\\theta}=\\frac{y}{\\sqrt{x^{2}+y^{2}}}$."
   ]
  },
  {
   "cell_type": "markdown",
   "metadata": {},
   "source": [
    "(d) Prove that $(zw)^{*} = z^{*}w^{*}$ and that $\\left(\\frac{1}{z}\\right)^{*} = \\frac{1}{z^{*}}$."
   ]
  },
  {
   "cell_type": "markdown",
   "metadata": {},
   "source": [
    "First let us denote:\n",
    "$z=x+iy$, $w=v+iu.$"
   ]
  },
  {
   "cell_type": "markdown",
   "metadata": {},
   "source": [
    "(121) $$\\left(zw\\right)^{*}=\\left(\\left(x+iy\\right)\\left(v+iu\\right)\\right)^{*}=(xv-yu)-i(ux+yv).$$"
   ]
  },
  {
   "cell_type": "markdown",
   "metadata": {},
   "source": [
    "(122) $$z^{*}w^{*}=(x-iy)(v-iu)=(xv-yu)-i(ux+yv).$$"
   ]
  },
  {
   "cell_type": "markdown",
   "metadata": {},
   "source": [
    "We see that $()=()$ which is equivalent to $(zw)^{*} = z^{*}w^{*}$ QED."
   ]
  },
  {
   "cell_type": "markdown",
   "metadata": {},
   "source": [
    "Now let us prove $\\left(\\frac{1}{z}\\right)^{*} = \\frac{1}{z^{*}}$:"
   ]
  },
  {
   "cell_type": "markdown",
   "metadata": {},
   "source": [
    "(123) $$\\left(\\frac{1}{z}\\right)^{*}=\\left(\\frac{1}{x+iy}\\frac{(x-iy)}{(x-iy)}\\right)=\\frac{x-iy}{x^{2}+y^{2}}.$$\n",
    "\n",
    "(124) $$\\frac{1}{z^{*}}=\\left(\\frac{1}{x-iy}\\frac{(x+iy)}{(x+iy)}\\right)=\\frac{x-iy}{x^{2}+y^{2}}.$$"
   ]
  },
  {
   "cell_type": "markdown",
   "metadata": {},
   "source": [
    "We see that (123)=(124) which is equivallent to $\\left(\\frac{1}{z}\\right)^{*} = \\frac{1}{z^{*}}$ QED."
   ]
  },
  {
   "cell_type": "markdown",
   "metadata": {},
   "source": [
    "(e) Deduce that if $z = \\frac{a}{(b+ic)}$, with $a$, $b$, and $c$ real, then $|z|^{2} = \\frac{a^{2}}{(b^{2} + c^{2} )}$."
   ]
  },
  {
   "cell_type": "markdown",
   "metadata": {},
   "source": [
    "(125) $$|z|^{2}=zz^{*}=\\left(\\frac{a}{b+ic}\\right)\\left(\\frac{a}{b-ic}\\right)=\\frac{a^{2}(b^{2}+c^{2})}{(b^{2}+c^{2})^{2}}=\\frac{a^{2}}{(b^{2}+c^{2})}.$$"
   ]
  },
  {
   "cell_type": "markdown",
   "metadata": {},
   "source": [
    "### Problem 5.48\n",
    "\n",
    "Use the results (5.105) and (5.106) to prove the formulas (5.83)—(5.85) for the Fourier coefficients $a_{n}$ and $b_{n}$.\n",
    "\n",
    "[Hint: Multiply both sides of the Fourier expansion (5.82) by $\\cos(m\\omega t)$ or $\\sin(m\\omega t)$\n",
    "and then integrate from $\\frac{-\\tau}{2}$ to $\\frac{\\tau}{2}$.]"
   ]
  },
  {
   "cell_type": "markdown",
   "metadata": {},
   "source": [
    "In Taylor's book it is stated that: Every r-periodic function can be written as a linear combination of the sines and cosines. That is, if\n",
    "$f(t)$is any  periodic function with period $T$ then it can be expressed as the sum:"
   ]
  },
  {
   "cell_type": "markdown",
   "metadata": {},
   "source": [
    "(126) $$f(t)=\\sum_{n=0}^{\\infty}\\left[a_{n}\\cos{(n\\omega t)}+b_{n}\\sin{(n\\omega t)}\\right].$$"
   ]
  },
  {
   "cell_type": "markdown",
   "metadata": {},
   "source": [
    "We can now multiply equation (126) by $\\cos{(m\\omega t)}$."
   ]
  },
  {
   "cell_type": "markdown",
   "metadata": {},
   "source": [
    "(127) $$f(t)\\cos{(m\\omega t)}=\\left(\\sum_{n=0}^{\\infty}\\left[a_{n}\\cos{(n\\omega t)}+b_{n}\\sin{(n\\omega t)}\\right]\\right)\\cos{(m\\omega t)}.$$"
   ]
  },
  {
   "cell_type": "markdown",
   "metadata": {},
   "source": [
    "If we now integrate this equation on both sides from $-\\frac{\\tau}{2}$ to $\\frac{\\tau}{2}$ we will end up with the following expression:"
   ]
  },
  {
   "cell_type": "markdown",
   "metadata": {},
   "source": [
    "(128) $$\\int_{\\frac{-\\tau}{2}}^{\\frac{\\tau}{2}}f(t)\\cos{(m\\omega t)}dt=\\int_{\\frac{-\\tau}{2}}^{\\frac{\\tau}{2}}\\left(\\sum_{n=0}^{\\infty}\\left[a_{n}\\cos{(n\\omega t)}+b_{n}\\sin{(n\\omega t)}\\right]\\right)\\cos{(m\\omega t)}dt.$$"
   ]
  },
  {
   "cell_type": "markdown",
   "metadata": {},
   "source": [
    "If we manage to show that "
   ]
  },
  {
   "cell_type": "markdown",
   "metadata": {},
   "source": [
    "(129) $$\\int_{\\frac{-\\tau}{2}}^{\\frac{\\tau}{2}} f(t) \\cos{(m\\omega t)}dt=\\int_{\\frac{-\\tau}{2}}^{\\frac{\\tau}{2}}\\left(\\sum_{n=0}^{\\infty}\\left[a_{n}\\left(\\int_{\\frac{-\\tau}{2}}^{\\frac{\\tau}{2}}\\cos{(n\\omega t)}\\cos{(m\\omega t)}dt\\right)+b_{n}\\left(\\int_{\\frac{-\\tau}{2}}^{\\frac{\\tau}{2}}\\sin{(n\\omega t)}\\cos{(m\\omega t)}dt\\right)\\right]\\right)dt,$$"
   ]
  },
  {
   "cell_type": "markdown",
   "metadata": {},
   "source": [
    "We know from Taylor's book that (we can trivially prove that by expressing sin and cos products as rational expressions):\n",
    "\n",
    "\n",
    "(130) $$\\int_{\\frac{-\\tau}{2}}^{\\frac{\\tau}{2}}\\cos{(m\\omega t)}\\cos{(n\\omega t)} dt = 0\\text{,    for } n\\neq m,$$"
   ]
  },
  {
   "cell_type": "markdown",
   "metadata": {},
   "source": [
    "(131) $$\\int_{\\frac{-\\tau}{2}}^{\\frac{\\tau}{2}}\\cos{(m\\omega t)}\\cos{(n\\omega t)} dt = \\frac{\\tau}{2}\\text{, for } n=m\\neq 0,$$"
   ]
  },
  {
   "cell_type": "markdown",
   "metadata": {},
   "source": [
    "(132) $$\\int_{\\frac{-\\tau}{2}}^{\\frac{\\tau}{2}}\\cos{(m\\omega t)}\\cos{(n\\omega t)} dt = \\tau\\text{,    for } n=m=0,$$"
   ]
  },
  {
   "cell_type": "markdown",
   "metadata": {},
   "source": [
    "(133) $$\\int_{\\frac{-\\tau}{2}}^{\\frac{\\tau}{2}}\\sin{(m\\omega t)}\\sin{(n\\omega t)} dt = \\frac{\\tau}{2}\\text{, for } n=m\\neq 0,$$"
   ]
  },
  {
   "cell_type": "markdown",
   "metadata": {},
   "source": [
    "(134) $$\\int_{\\frac{-\\tau}{2}}^{\\frac{\\tau}{2}}\\sin{(m\\omega t)}\\sin{(n\\omega t)} dt = 0\\text{,    for } n=m=0,$$"
   ]
  },
  {
   "cell_type": "markdown",
   "metadata": {},
   "source": [
    "(135) $$\\int_{\\frac{-\\tau}{2}}^{\\frac{\\tau}{2}}\\sin{(m\\omega t)}\\sin{(n\\omega t)} dt = 0\\text{,    for } n\\neq m.$$"
   ]
  },
  {
   "cell_type": "markdown",
   "metadata": {},
   "source": [
    "If we substitute these formlulas (130, 131, 132) into (129) we will get:"
   ]
  },
  {
   "cell_type": "markdown",
   "metadata": {},
   "source": [
    "(136) $$\\int_{\\frac{-\\tau}{2}}^{\\frac{\\tau}{2}} f(t) \\cos{(m\\omega t)}dt=\\tau a_{0}\\delta_{0m}+\\sum_{n=1}^{\\infty}\\frac{\\tau a_{n}}{2}\\delta_{nm}$$"
   ]
  },
  {
   "cell_type": "markdown",
   "metadata": {},
   "source": [
    "We now want to show that the coefficients $a_{n},b_{n}$ can be expressed as:"
   ]
  },
  {
   "cell_type": "markdown",
   "metadata": {},
   "source": [
    "(137) $$a_{n}=\\frac{2}{\\tau}\\int_{\\frac{-\\tau}{2}}^{\\frac{\\tau}{2}}f(t)\\cos{(n\\omega t)} dt,$$\n",
    "(138) $$b_{n}=\\frac{2}{\\tau}\\int_{\\frac{-\\tau}{2}}^{\\frac{\\tau}{2}}f(t)\\sin{(n\\omega t)} dt,$$\n",
    "(139) $$a_{0}=\\frac{1}{\\tau}\\int_{\\frac{-\\tau}{2}}^{\\frac{\\tau}{2}}f(t)\\cos{(n\\omega t)}dt,$$\n",
    "(140) $$b_{0}=0.$$"
   ]
  },
  {
   "cell_type": "markdown",
   "metadata": {},
   "source": [
    "Now let us substitute the values of $a_{n}$ (137, 139) into (136) then (136) takes the form:"
   ]
  },
  {
   "cell_type": "markdown",
   "metadata": {},
   "source": [
    "(141) $$\\tau\\int_{\\frac{-\\tau}{2}}^{\\frac{\\tau}{2}}f(t)\\frac{\\delta_{0m}}{\\tau} dt+\\sum_{n=1}^{\\infty}\\frac{\\tau \\int_{\\frac{-\\tau}{2}}^{\\frac{\\tau}{2}}f(t)\\cos{(n\\omega t)} dt}{2}\\frac{2\\delta_{nm}}{\\tau} dt=\\sum_{n=0}^{\\infty}\\int_{\\frac{-\\tau}{2}}^{\\frac{\\tau}{2}}f(t)\\cos{(n\\omega t)} dt\\delta_{nm}=\\int_{\\frac{-\\tau}{2}}^{\\frac{\\tau}{2}} f(t) \\cos{(m\\omega t)}dt,$$"
   ]
  },
  {
   "cell_type": "markdown",
   "metadata": {},
   "source": [
    "which shows that the expressions (137, 139) are the solutions of (136)."
   ]
  },
  {
   "cell_type": "markdown",
   "metadata": {},
   "source": [
    "We can repeat a similar reasoning to prove  (138, 140). Now instead of multyplying (126) on both sides by $\\cos(m\\omega t)$ we need to multiply the equation by $\\sin(m\\omega t)$."
   ]
  },
  {
   "cell_type": "markdown",
   "metadata": {},
   "source": [
    "Subsequently, we integrate the obtained result for the region $\\left[\\frac{-\\tau}{2},\\frac{\\tau}{2}\\right]$ and we get:"
   ]
  },
  {
   "cell_type": "markdown",
   "metadata": {},
   "source": [
    "(142) $$\\int_{\\frac{-\\tau}{2}}^{\\frac{\\tau}{2}} f(t) \\sin{(m\\omega t)}dt=\\sum_{n=0}^{\\infty}\\frac{\\tau b_{n}}{2}\\delta_{nm}.$$"
   ]
  },
  {
   "cell_type": "markdown",
   "metadata": {},
   "source": [
    "If we now substitute the values of $b_{n}$ from (138, 140) into (142) we will end up with:"
   ]
  },
  {
   "cell_type": "markdown",
   "metadata": {},
   "source": [
    "(143) $$0+\\sum_{n=1}^{\\infty}\\frac{\\tau \\int_{\\frac{-\\tau}{2}}^{\\frac{\\tau}{2}}f(t)\\sin{(n\\omega t)} dt}{2}\\frac{2\\delta_{nm}}{\\tau} dt=\\sum_{n=0}^{\\infty}\\int_{\\frac{-\\tau}{2}}^{\\frac{\\tau}{2}}f(t)\\sin{(n\\omega t)} dt\\delta_{nm}=\\int_{\\frac{-\\tau}{2}}^{\\frac{\\tau}{2}} f(t) \\sin{(m\\omega t)}dt.$$"
   ]
  },
  {
   "cell_type": "markdown",
   "metadata": {},
   "source": [
    "We see therefore that (139,140) are indeed the solutions of (142)."
   ]
  },
  {
   "cell_type": "markdown",
   "metadata": {},
   "source": [
    "All the things considered, (137, 138, 139, 140) are the solutions of (126)."
   ]
  },
  {
   "cell_type": "markdown",
   "metadata": {},
   "source": [
    "QED."
   ]
  },
  {
   "cell_type": "markdown",
   "metadata": {},
   "source": [
    "### Problem 5.51\n",
    "\n",
    "You can make the Fourier series solution for a periodically driven oscillator a bit tidier if you\n",
    "don't mind using complex numbers. Obviously the periodic force of Equation (5.90) can be written as\n",
    "$f = Re(g)$, where the complex function $g$ is\n",
    "\n",
    "(144) $$g(t) =\\sum_{n=0}^{\\infty}f_{n}e^{in\\omega t}.$$"
   ]
  },
  {
   "cell_type": "markdown",
   "metadata": {},
   "source": [
    "Show that the real solution for the oscillator's motion can likewise be written as $x = Re(z)$, where\n",
    "\n",
    "(145) $$z(t)=\\sum_{n=0}^{\\infty}c_{n}e^{in\\omega t}$$"
   ]
  },
  {
   "cell_type": "markdown",
   "metadata": {},
   "source": [
    "and\n",
    "\n",
    "(146) $$c_{n}=\\frac{f_{n}}{w_{0}^{2}-n^{2}\\omega^{2}+2i\\beta n \\omega}.$$\n",
    "\n",
    "This solution avoids our having to worry about the real amplitude $A_{n}$ and phase shift 5, separately. (Of\n",
    "course $A_{n}$ and $\\delta_{n}$ are hidden inside the complex number $c_{n}$.)"
   ]
  },
  {
   "cell_type": "markdown",
   "metadata": {},
   "source": [
    "Let us first express the complex coefficient $c_{n}$ as product of $|c_{n}|$ and exponential factor with the complex argument in exponent."
   ]
  },
  {
   "cell_type": "markdown",
   "metadata": {},
   "source": [
    "(147) $$c_{n}=f_{n}\\frac{(w_{0}^{2}-n^{2}w^{2})-2i\\beta n \\omega}{(w_{0}^{2}-n^{2}w^{2})^{2}+4\\beta^{2}n^{2}w^{2}}$$"
   ]
  },
  {
   "cell_type": "markdown",
   "metadata": {},
   "source": [
    "(148) $$\\Re(c_{n})=f_{n}\\frac{(w_{0}^{2}-n^{2}w^{2})}{(w_{0}^{2}-n^{2}w^{2})^{2}+4\\beta^{2}n^{2}w^{2}}$$"
   ]
  },
  {
   "cell_type": "markdown",
   "metadata": {},
   "source": [
    "(149) $$\\Im(c_{n})=f_{n}\\frac{2\\beta n \\omega}{(w_{0}^{2}-n^{2}w^{2})^{2}+4\\beta^{2}n^{2}w^{2}}$$"
   ]
  },
  {
   "cell_type": "markdown",
   "metadata": {},
   "source": [
    "(150) $$|c_{n}|=f_{n}\\sqrt{\\Re(c_{n})^{2}+\\Im(c_{n})^{2}}.$$"
   ]
  },
  {
   "cell_type": "markdown",
   "metadata": {},
   "source": [
    "After substituting (148) and (149) into (150) we get:"
   ]
  },
  {
   "cell_type": "markdown",
   "metadata": {},
   "source": [
    "(151) $$|c_{n}|=\\frac{f_{n}}{\\sqrt{(w_{0}^{2}-n^{2}w^{2})^{2}+4\\beta^{2}n^{2}w^{2}}}.$$"
   ]
  },
  {
   "cell_type": "markdown",
   "metadata": {},
   "source": [
    "(152) $$c_{n}=|c_{n}|e^{i \\arctan{\\left(\\frac{\\Im(c_{n})}{\\Re(c_{n})}\\right)}}=\\left(\\frac{f_{n}}{\\sqrt{(w_{0}^{2}-n^{2}w^{2})^{2}+4\\beta^{2}n^{2}w^{2}}}\\right)e^{-i \\delta_{n}},$$"
   ]
  },
  {
   "cell_type": "markdown",
   "metadata": {},
   "source": [
    "where "
   ]
  },
  {
   "cell_type": "markdown",
   "metadata": {},
   "source": [
    "(153) $$\\delta_{n}=-\\arctan{\\left(\\frac{\\Im(c_{n})}{\\Re(c_{n})}\\right)}.$$"
   ]
  },
  {
   "cell_type": "markdown",
   "metadata": {},
   "source": [
    "Armed with this knowledge we can now substitute $c_{n}$ into the expression for $z(t)$:"
   ]
  },
  {
   "cell_type": "markdown",
   "metadata": {},
   "source": [
    "(154) $$z(t)=\\sum_{n=0}^{\\infty}c_{n}e^{i n\\omega t}=\\sum_{n=0}^{\\infty}\\left(\\frac{f_{n}}{\\sqrt{(w_{0}^{2}-n^{2}w^{2})^{2}+4\\beta^{2}n^{2}w^{2}}}\\right)e^{-i \\delta_{n}}e^{i n\\omega t}.$$"
   ]
  },
  {
   "cell_type": "markdown",
   "metadata": {},
   "source": [
    "Now we can calculate $x$ according to formula $x=\\Re(z)$."
   ]
  },
  {
   "cell_type": "markdown",
   "metadata": {},
   "source": [
    "(155) $$x(t)=\\Re{\\left[z(t)\\right]}=\\Re{\\left[\\sum_{n=0}^{\\infty}\\left(\\frac{f_{n}}{\\sqrt{(w_{0}^{2}-n^{2}w^{2})^{2}+4\\beta^{2}n^{2}w^{2}}}\\right)e^{-i \\delta_{n}}e^{i n\\omega t}\\right]}$$"
   ]
  },
  {
   "cell_type": "markdown",
   "metadata": {},
   "source": [
    "Consequently, "
   ]
  },
  {
   "cell_type": "markdown",
   "metadata": {},
   "source": [
    "(156) $$x(t)=\\sum_{n=0}^{\\infty}\\frac{f_{n}}{\\sqrt{(w_{0}^{2}-n^{2}w^{2})^{2}+4\\beta^{2}n^{2}w^{2}}}\\cos{(n\\omega t - \\delta_{n})}=\\sum_{n=0}^{\\infty}A_{n}\\cos{(n\\omega t - \\delta_{n})},$$"
   ]
  },
  {
   "cell_type": "markdown",
   "metadata": {},
   "source": [
    "which is exactly the same as expression (5.94)."
   ]
  },
  {
   "cell_type": "markdown",
   "metadata": {},
   "source": [
    "### Problem 6.20"
   ]
  },
  {
   "cell_type": "markdown",
   "metadata": {},
   "source": [
    "If you haven't done it, take a look at Problem 6.10. Here is a second situation in which you\n",
    "can find a \"first integral\" of the Euler—Lagrange equation: Argue that if it happens that the integrand\n",
    "$f (y, y', x)$ does not depend explicitly on $x$, that is, $f = f (y, y')$, then"
   ]
  },
  {
   "cell_type": "markdown",
   "metadata": {},
   "source": [
    "(157) $$\\frac{df}{dx}=\\frac{\\partial f}{\\partial y}y'+\\frac{\\partial f}{\\partial x}x'.$$ "
   ]
  },
  {
   "cell_type": "markdown",
   "metadata": {},
   "source": [
    "Use the Euler—Lagrange equation to replace $\\frac{\\partial f}{\\partial y}$ on the right and hence show that:"
   ]
  },
  {
   "cell_type": "markdown",
   "metadata": {},
   "source": [
    "(158) $$\\frac{df}{dx}=\\frac{d}{dx}\\left(y' \\frac{\\partial f}{\\partial y'}\\right),$$"
   ]
  },
  {
   "cell_type": "markdown",
   "metadata": {},
   "source": [
    "which is:"
   ]
  },
  {
   "cell_type": "markdown",
   "metadata": {},
   "source": [
    "(159) $$\\frac{d}{dx}\\left(f-y' \\frac{\\partial f}{\\partial y'}\\right)=0.$$"
   ]
  },
  {
   "cell_type": "markdown",
   "metadata": {},
   "source": [
    "This gives you the first integral:"
   ]
  },
  {
   "cell_type": "markdown",
   "metadata": {},
   "source": [
    "(160) $$f-y'\\frac{\\partial f}{\\partial y'}=\\text{const}.$$"
   ]
  },
  {
   "cell_type": "markdown",
   "metadata": {},
   "source": [
    "This can simplify several calculations. (See Problems 6.21 and 6.22 for examples.) In Lagrangian mechanics, where the independent variable is the time $t$, the corresponding result is that if the Lagrangian\n",
    "function is independent of $t$, then energy is conserved. (See Section 7.8.)."
   ]
  },
  {
   "cell_type": "markdown",
   "metadata": {},
   "source": [
    "First we need to calculate $\\frac{df(y,y',x)}{dx}:$"
   ]
  },
  {
   "cell_type": "markdown",
   "metadata": {},
   "source": [
    "(160) $$\\frac{df(y,y',x)}{dx}=\\left(\\frac{dy'}{dx}\\right)\\frac{\\partial f(y, y',x)}{\\partial y'}+y'\\frac{d}{dx}\\left(\\frac{\\partial f(y,y',x)}{\\partial y'}\\right),$$"
   ]
  },
  {
   "cell_type": "markdown",
   "metadata": {},
   "source": [
    "which is equivallent to:"
   ]
  },
  {
   "cell_type": "markdown",
   "metadata": {},
   "source": [
    "(161) $$\\frac{df}{dx}=y''\\frac{\\partial f}{\\partial y'}+y'\\frac{d}{dx}\\left(\\frac{\\partial f}{\\partial y'}\\right).$$"
   ]
  },
  {
   "cell_type": "markdown",
   "metadata": {},
   "source": [
    "The above equation can be transformed in such a way that we obtain:"
   ]
  },
  {
   "cell_type": "markdown",
   "metadata": {},
   "source": [
    "(162) $$\\frac{d}{dx}\\left(\\frac{\\partial f}{\\partial y'}\\right)=\\frac{df}{dx}\\left(\\frac{1}{y'}\\right)+\\left(\\frac{y''}{y'}\\right)\\frac{\\partial f}{\\partial y'}.$$"
   ]
  },
  {
   "cell_type": "markdown",
   "metadata": {},
   "source": [
    "Euler Lagrange equation has the form:"
   ]
  },
  {
   "cell_type": "markdown",
   "metadata": {},
   "source": [
    "(163) $$\\frac{\\partial f}{\\partial y}-\\frac{d}{dx}\\left(\\frac{\\partial f}{\\partial y'}\\right)=0.$$"
   ]
  },
  {
   "cell_type": "markdown",
   "metadata": {},
   "source": [
    "If we substitute (162) into (163) we will end up with:"
   ]
  },
  {
   "cell_type": "markdown",
   "metadata": {},
   "source": [
    "(164) $$\\frac{\\partial f}{\\partial y}-\\frac{df}{dx}\\left(\\frac{1}{y'}\\right)+\\left(\\frac{y''}{y'}\\right)\\frac{\\partial f}{\\partial y'}=0$$"
   ]
  },
  {
   "cell_type": "markdown",
   "metadata": {},
   "source": [
    "After multiplying the above by $y'$ we get:"
   ]
  },
  {
   "cell_type": "markdown",
   "metadata": {},
   "source": [
    "(165) $$y'\\frac{\\partial f}{\\partial y}-\\frac{df}{dx}+y''\\frac{\\partial f}{\\partial y'}=0,$$"
   ]
  },
  {
   "cell_type": "markdown",
   "metadata": {},
   "source": [
    "which is exactly the same as (161):"
   ]
  },
  {
   "cell_type": "markdown",
   "metadata": {},
   "source": [
    "(166) $$\\frac{df}{dx}=\\frac{\\partial f}{\\partial y}y'+\\frac{\\partial f}{\\partial y'}y''=\\frac{d}{dx}\\left(y' \\frac{\\partial f}{\\partial y'}\\right).$$\n",
    "\n",
    "The last equality is identical to (158).\n",
    "\n",
    "QED"
   ]
  },
  {
   "cell_type": "markdown",
   "metadata": {},
   "source": [
    "### Problem 7.8"
   ]
  },
  {
   "cell_type": "markdown",
   "metadata": {},
   "source": [
    "(a) Write down the Lagrangian $L(x_{1} , x_{2} , \\dot{x}_{1} , \\dot{x}_{2})$ for two particles of equal masses, $m_{1} = m_{2} = m$,\n",
    "confined to the $x$ axis and connected by a spring with potential energy $U=\\frac{kx^{2}}{2}$. [Here $x$ is the\n",
    "extension of the spring, $x = (x_{1} - x_{2} - l)$, \n",
    "where $l$ is the spring's unstretched length, and I assume that mass 1 remains to the right of mass 2 at all times.] "
   ]
  },
  {
   "cell_type": "markdown",
   "metadata": {},
   "source": [
    "(167) $$L=\\frac{m_{1}\\dot{x}_{1}^{2}}{2}+\\frac{m_{2}\\dot{x}_{2}^{2}}{2}+\\frac{k\\left(x_{1}-x_{2}-l\\right)^{2}}{2}.$$"
   ]
  },
  {
   "cell_type": "markdown",
   "metadata": {},
   "source": [
    "(b) Rewrite $L$ in terms of the new variables $X = \\frac{1}{2}\\left(x_{1} + x_{2}\\right)$ (the CM position) and $x$ (the extension), and write down the two Lagrange equations\n",
    "for $X$ and $x$."
   ]
  },
  {
   "cell_type": "markdown",
   "metadata": {},
   "source": [
    "Solving this point is just a matter of solving the following system:"
   ]
  },
  {
   "cell_type": "markdown",
   "metadata": {},
   "source": [
    "(168) $$\\begin{cases}\n",
    "x=x_{1}-x_{2}-l\\\\\n",
    "X=\\frac{x_{1}+x_{2}}{2}.\n",
    "\\end{cases}$$"
   ]
  },
  {
   "cell_type": "markdown",
   "metadata": {},
   "source": [
    "The solutions of this system are:"
   ]
  },
  {
   "cell_type": "markdown",
   "metadata": {},
   "source": [
    "$$x_{1}=X+\\frac{x+l}{2},$$\n",
    "$$\\dot{x}_{1}=\\dot{X}+\\frac{\\dot{x}}{2},$$"
   ]
  },
  {
   "cell_type": "markdown",
   "metadata": {},
   "source": [
    "$$x_{2}=X-\\frac{x-l}{2},$$\n",
    "$$\\dot{x}_{2}=\\dot{X}-\\frac{\\dot{x}}{2}.$$"
   ]
  },
  {
   "cell_type": "markdown",
   "metadata": {},
   "source": [
    "Consequently we get:"
   ]
  },
  {
   "cell_type": "markdown",
   "metadata": {},
   "source": [
    "(169) $$L=\\frac{m}{2}\\left[\\left(\\dot{X}+\\frac{\\dot{x}}{2}\\right)^{2}+\\left(\\dot{X}-\\frac{\\dot{x}}{2}\\right)^{2}\\right]-\\frac{1}{2}kx^{2}=m\\dot{X}^{2}+\\frac{1}{4}\\dot{x}^{2}-\\frac{1}{2}kx^{2}.$$"
   ]
  },
  {
   "cell_type": "markdown",
   "metadata": {},
   "source": [
    "(c) Solve for $X (t)$ and $x (t)$ and describe the motion."
   ]
  },
  {
   "cell_type": "markdown",
   "metadata": {},
   "source": [
    "In order to get the equation for $X(t)$ we need to find:"
   ]
  },
  {
   "cell_type": "markdown",
   "metadata": {},
   "source": [
    "$$\\frac{\\partial L}{\\partial X}=0,$$\n",
    "\n",
    "$$\\frac{d}{dt}\\frac{\\partial L}{\\partial \\dot{X}}=2m\\ddot{X}.$$"
   ]
  },
  {
   "cell_type": "markdown",
   "metadata": {},
   "source": [
    "Consequently (from E-L equation), we have:"
   ]
  },
  {
   "cell_type": "markdown",
   "metadata": {},
   "source": [
    "(170) $$2m\\ddot{X}=0,$$"
   ]
  },
  {
   "cell_type": "markdown",
   "metadata": {},
   "source": [
    "which is effectively the equation of a free particle of $2m$. (CM moves as free particle.) If we move to the CM frame we will have $X(t)\\equiv 0$."
   ]
  },
  {
   "cell_type": "markdown",
   "metadata": {},
   "source": [
    "If we do the same for $x(t)$ we will get:"
   ]
  },
  {
   "cell_type": "markdown",
   "metadata": {},
   "source": [
    "$$\\frac{\\partial L}{\\partial x}=-kx,$$\n",
    "\n",
    "$$\\frac{d}{dt}\\frac{\\partial L}{\\partial \\dot{x}}=\\frac{m\\ddot{x}}{2}.$$"
   ]
  },
  {
   "cell_type": "markdown",
   "metadata": {},
   "source": [
    "(171) $$\\ddot{x}=-\\frac{2k}{m}x.$$"
   ]
  },
  {
   "cell_type": "markdown",
   "metadata": {},
   "source": [
    "The two masses oscillate harmonically around $l$ like a particle of mass $\\frac{m}{2}$."
   ]
  },
  {
   "cell_type": "markdown",
   "metadata": {},
   "source": [
    "(172) $$x(t)=A\\sin{\\left(\\sqrt{\\frac{2k}{m}}t\\right)}+B\\cos{\\left(\\sqrt{\\frac{2k}{m}}t\\right)}.$$"
   ]
  },
  {
   "cell_type": "markdown",
   "metadata": {},
   "source": [
    "### Problem 7.37"
   ]
  },
  {
   "cell_type": "markdown",
   "metadata": {},
   "source": [
    "Two equal masses, $m_{1} = m_{2} = m$, are joined by a massless string of length $L$ that passes\n",
    "through a hole in a frictionless horizontal table. The first mass slides on the table while the second\n",
    "hangs below the table and moves up and down in a vertical line."
   ]
  },
  {
   "cell_type": "markdown",
   "metadata": {},
   "source": [
    "(a) Assuming the string remains taut, write down the Lagrangian for the system in terms of the polar coordinates $(r, 0)$ of the mass on the table."
   ]
  },
  {
   "cell_type": "markdown",
   "metadata": {},
   "source": [
    "(173) $$L=\\frac{m}{2}\\left(\\dot{r}^{2}+r^{2}\\dot{\\phi}^{2}\\right)+\\frac{m}{2}\\dot{r}^{2}+mg(d-r),$$"
   ]
  },
  {
   "cell_type": "markdown",
   "metadata": {},
   "source": [
    "where $d$ signifies the length of the string."
   ]
  },
  {
   "cell_type": "markdown",
   "metadata": {},
   "source": [
    "(b) Find the two Lagrange equations and interpret the $\\phi$ equation in terms of the angular momentum $l$\n",
    "of the first mass. "
   ]
  },
  {
   "cell_type": "markdown",
   "metadata": {},
   "source": [
    "First let us analyse the Lagrange equation for $r$:"
   ]
  },
  {
   "cell_type": "markdown",
   "metadata": {},
   "source": [
    "(174) $$\\frac{\\partial L}{\\partial r}=\\frac{d}{dt}\\left(\\frac{\\partial L}{\\partial \\dot{r}}\\right),$$"
   ]
  },
  {
   "cell_type": "markdown",
   "metadata": {},
   "source": [
    "which is:"
   ]
  },
  {
   "cell_type": "markdown",
   "metadata": {},
   "source": [
    "(175) $$2m\\ddot{r}=m\\dot{\\phi}^{2}r-mg.$$"
   ]
  },
  {
   "cell_type": "markdown",
   "metadata": {},
   "source": [
    "The same can be done for $\\phi$:"
   ]
  },
  {
   "cell_type": "markdown",
   "metadata": {},
   "source": [
    "(176) $$\\frac{\\partial L}{\\partial \\phi}=\\frac{d}{dt}\\left(\\frac{\\partial L}{\\partial \\dot{\\phi}}\\right),$$"
   ]
  },
  {
   "cell_type": "markdown",
   "metadata": {},
   "source": [
    "(177) $$mr^{2}\\ddot{\\phi}=0,$$"
   ]
  },
  {
   "cell_type": "markdown",
   "metadata": {},
   "source": [
    "which indicated that:"
   ]
  },
  {
   "cell_type": "markdown",
   "metadata": {},
   "source": [
    "(178) $$mr^{2}\\dot{\\phi}=\\text{const}.$$"
   ]
  },
  {
   "cell_type": "markdown",
   "metadata": {},
   "source": [
    "We can recognise the constant in as angular momentum."
   ]
  },
  {
   "cell_type": "markdown",
   "metadata": {},
   "source": [
    "(179) $$mr^{2}\\dot{\\phi}=l.$$"
   ]
  },
  {
   "cell_type": "markdown",
   "metadata": {},
   "source": [
    "(c) Express $\\dot{\\phi}$ in terms of $l$ and eliminate $\\dot{\\phi}$ from the $r$ equation. Now use the $r$ equation\n",
    "to find the value $r = r_{o}$ at which the first mass can move in a circular path. Interpret your answer in\n",
    "Newtonian terms."
   ]
  },
  {
   "cell_type": "markdown",
   "metadata": {},
   "source": [
    "If we consider the result we obtained in (179) and substitute it into (175) we will get:"
   ]
  },
  {
   "cell_type": "markdown",
   "metadata": {},
   "source": [
    "(180) $$\\ddot{r}=\\frac{l^{2}}{2m^{2}r^{3}}-\\frac{g}{2}.$$"
   ]
  },
  {
   "cell_type": "markdown",
   "metadata": {},
   "source": [
    "When the first mass moves in a circular path $r=r_{o}$ and $\\ddot{r}=0$, and thus:"
   ]
  },
  {
   "cell_type": "markdown",
   "metadata": {},
   "source": [
    "(181) $$\\frac{l^{2}}{2m^{2}r_{o}^{3}}-\\frac{g}{2}=0 \\Rightarrow r_{o}=\\sqrt{\\frac{l^{2}}{m^{2}g}}.$$"
   ]
  },
  {
   "cell_type": "markdown",
   "metadata": {},
   "source": [
    "From a Newtonian point of veiw equation (181) is equivallent to a statemant that the cetrifigal force acting on mass $m_{1}$ is equal in magnitude to the force of the string tension linked to the gravitational interaction of mass $m_{2}$ with the Earth. "
   ]
  },
  {
   "cell_type": "markdown",
   "metadata": {},
   "source": [
    "(d) Suppose the first mass is moving in this circular path and is given a small radial\n",
    "nudge. Write $r (t) = r_{o}+ \\epsilon(t)$ and rewrite the $r$ equation in terms of $\\epsilon(t)$ dropping all powers of $\\epsilon(t)$ higher than linear. Show that the circular path is stable and that $r(t)$ oscillates sinusoidally about $r_{o}$.\n",
    "What is the frequency of its oscillations?"
   ]
  },
  {
   "cell_type": "markdown",
   "metadata": {},
   "source": [
    "If we substitute $r(t)=r_{o}-\\epsilon(t)$ into (180) we will get:"
   ]
  },
  {
   "cell_type": "markdown",
   "metadata": {},
   "source": [
    "(182) $$\\ddot{\\epsilon}=-\\frac{g}{2}+\\frac{l^{2}}{2m^{2}r_{o}^{3}}\\left(\\frac{\\epsilon+r_{o}}{r_{o}}\\right)^{-3}.$$"
   ]
  },
  {
   "cell_type": "markdown",
   "metadata": {},
   "source": [
    "If we now approximate the expression in parenthesis from (182) we will get:"
   ]
  },
  {
   "cell_type": "markdown",
   "metadata": {},
   "source": [
    "(183) $$\\ddot{\\epsilon}=-\\frac{g}{2}+\\frac{l^{2}}{2m^{2}r_{o}^{3}}\\left(1-\\frac{3\\epsilon}{r_{o}}\\right).$$"
   ]
  },
  {
   "cell_type": "markdown",
   "metadata": {},
   "source": [
    "If we take into account (181), (183) becomes:"
   ]
  },
  {
   "cell_type": "markdown",
   "metadata": {},
   "source": [
    "(184) $$\\ddot{\\epsilon}=-\\frac{3l^{2}}{2m^{2}r_{o}^{4}}\\epsilon.$$"
   ]
  },
  {
   "cell_type": "markdown",
   "metadata": {},
   "source": [
    "(184) is the equation of a harmonic oscillator. The frequency of oscillations can be calculated as:"
   ]
  },
  {
   "cell_type": "markdown",
   "metadata": {},
   "source": [
    "(185) $$\\omega=\\sqrt{\\frac{3l^{2}}{2m^{2}r_{o}^{4}}}\\epsilon.$$"
   ]
  },
  {
   "cell_type": "markdown",
   "metadata": {},
   "source": [
    "The general solution of (184) is then equal to:"
   ]
  },
  {
   "cell_type": "markdown",
   "metadata": {},
   "source": [
    "(186) $$\\epsilon(t)=A\\sin{\\left(\\omega t\\right)}+B\\cos{\\left(\\omega t\\right)}.$$"
   ]
  },
  {
   "cell_type": "markdown",
   "metadata": {},
   "source": [
    "Sinusoidal path and stable!"
   ]
  },
  {
   "cell_type": "markdown",
   "metadata": {},
   "source": [
    "### Problem 7.51 \n",
    "\n",
    "Write down the Lagrangian for the simple pendulum of Figure 7.2 in terms of the rectangular\n",
    "coordinates $x$ and $y$. These coordinates are constrained to satisfy the constraint equation $f(x,y)=\\sqrt{x^{2}+y^{2}}=l$."
   ]
  },
  {
   "cell_type": "markdown",
   "metadata": {},
   "source": [
    "(a) Write down the two modified Lagrange equations (7.118) and (7.119). Comparing these with the two components of Newton's second law, show that the Lagrange multiplier is (minus)\n",
    "the tension $T$ in the rod. Verify Equation (7.122) and the corresponding equation in $y$."
   ]
  },
  {
   "cell_type": "markdown",
   "metadata": {},
   "source": [
    "(187) $$L=\\frac{m\\dot{x}^{2}}{2}+\\frac{m\\dot{y}^{2}}{2}+mgy.$$"
   ]
  },
  {
   "cell_type": "markdown",
   "metadata": {},
   "source": [
    "$$\\frac{\\partial L}{\\partial x}+\\lambda \\frac{\\partial f}{\\partial x}=\\frac{d}{dt}\\frac{\\partial L}{\\partial \\dot{x}}.$$"
   ]
  },
  {
   "cell_type": "markdown",
   "metadata": {},
   "source": [
    "(188) $$m\\ddot{x}=\\lambda \\frac{x}{\\sqrt{x^{2}+y^{2}}}=\\lambda \\frac{x}{l}.$$"
   ]
  },
  {
   "cell_type": "markdown",
   "metadata": {},
   "source": [
    "In Newtonan approach we would have:"
   ]
  },
  {
   "cell_type": "markdown",
   "metadata": {},
   "source": [
    "(189) $$m\\ddot{x}=-T\\frac{x}{l}.$$"
   ]
  },
  {
   "cell_type": "markdown",
   "metadata": {},
   "source": [
    "The tension is always pointing in the direction of equilibrium."
   ]
  },
  {
   "cell_type": "markdown",
   "metadata": {},
   "source": [
    "The same can be done for $y$:"
   ]
  },
  {
   "cell_type": "markdown",
   "metadata": {},
   "source": [
    "$$\\frac{\\partial L}{\\partial y}+\\lambda \\frac{\\partial f}{\\partial y}=\\frac{d}{dt}\\frac{\\partial L}{\\partial \\dot{y}}.$$"
   ]
  },
  {
   "cell_type": "markdown",
   "metadata": {},
   "source": [
    "(190) $$m\\ddot{y}=mg+\\lambda \\frac{y}{\\sqrt{x^{2}+y^{2}}}=mg+\\lambda \\frac{y}{l}.$$"
   ]
  },
  {
   "cell_type": "markdown",
   "metadata": {},
   "source": [
    "In Newtonian approach we have:"
   ]
  },
  {
   "cell_type": "markdown",
   "metadata": {},
   "source": [
    "(191) $$m\\ddot{y}=mg-T\\frac{y}{l}.$$"
   ]
  },
  {
   "cell_type": "markdown",
   "metadata": {},
   "source": [
    "Consequently, we obtain:"
   ]
  },
  {
   "cell_type": "markdown",
   "metadata": {},
   "source": [
    "(192) $$\\lambda=-T.$$"
   ]
  },
  {
   "cell_type": "markdown",
   "metadata": {},
   "source": [
    "(b) The constraint\n",
    "equation can be written in many different ways. For example we could have written $f'(x,y)=x^{2}+y^{2}=l^{2}$. Check that using this function would have given the same physical results."
   ]
  },
  {
   "cell_type": "markdown",
   "metadata": {},
   "source": [
    "If we calculate $\\lambda_{2}\\frac{\\partial f'}{\\partial x}$, where $f'(x,y)=x^{2}+y^{2}$ we get:"
   ]
  },
  {
   "cell_type": "markdown",
   "metadata": {},
   "source": [
    "(193) $$\\lambda_{2} \\frac{\\partial f'}{\\partial x}=\\lambda_{2} 2x.$$"
   ]
  },
  {
   "cell_type": "markdown",
   "metadata": {},
   "source": [
    "Similarly we can calculate:"
   ]
  },
  {
   "cell_type": "markdown",
   "metadata": {},
   "source": [
    "(194) $$\\lambda_{2} \\frac{\\partial f'}{\\partial y}=\\lambda_{2} 2y.$$"
   ]
  },
  {
   "cell_type": "markdown",
   "metadata": {},
   "source": [
    "Given that the Lagrangian remains the same we will obtain:"
   ]
  },
  {
   "cell_type": "markdown",
   "metadata": {},
   "source": [
    "(195) $$m\\ddot{x}=\\lambda_{2} 2x.$$"
   ]
  },
  {
   "cell_type": "markdown",
   "metadata": {},
   "source": [
    "(196) $$m\\ddot{y}=mg+\\lambda_{2}2y.$$"
   ]
  },
  {
   "cell_type": "markdown",
   "metadata": {},
   "source": [
    "Comparing (195,196) with (188, 189, 191, 190) we can see that if $2\\lambda_{2}=\\frac{\\lambda}{l}=\\frac{-T}{l}$ the solution is the same. What is more if we get rid of $\\lambda_{2}$ in equations (195, 196) we will get:"
   ]
  },
  {
   "cell_type": "markdown",
   "metadata": {},
   "source": [
    "(197) $$m\\ddot{y}=mg+\\frac{m\\ddot{x}y}{x},$$"
   ]
  },
  {
   "cell_type": "markdown",
   "metadata": {},
   "source": [
    "which is exactly the same as a result we would get from removing $\\lambda$ from (188,190)."
   ]
  }
 ],
 "metadata": {
  "kernelspec": {
   "display_name": "Python 3",
   "language": "python",
   "name": "python3"
  },
  "language_info": {
   "codemirror_mode": {
    "name": "ipython",
    "version": 3
   },
   "file_extension": ".py",
   "mimetype": "text/x-python",
   "name": "python",
   "nbconvert_exporter": "python",
   "pygments_lexer": "ipython3",
   "version": "3.8.5"
  }
 },
 "nbformat": 4,
 "nbformat_minor": 4
}
